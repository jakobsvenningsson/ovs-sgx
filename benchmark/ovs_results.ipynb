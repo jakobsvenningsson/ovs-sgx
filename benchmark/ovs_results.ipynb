{
 "cells": [
  {
   "cell_type": "code",
   "execution_count": 1,
   "metadata": {},
   "outputs": [],
   "source": [
    "import pandas as pd\n",
    "import matplotlib.pyplot as plt\n",
    "%matplotlib inline\n",
    "plt.rcParams['figure.figsize'] = (12.0, 6.0)"
   ]
  },
  {
   "cell_type": "code",
   "execution_count": 2,
   "metadata": {},
   "outputs": [],
   "source": [
    "n_rounds = 10;\n",
    "\n",
    "# Helper function to read input data\n",
    "def read_input(s):\n",
    "    df = pd.read_csv(s, header=None, names=['execution_time'])\n",
    "    return df\\\n",
    "    .mask(df['execution_time'] > df['execution_time'].quantile(0.95), axis=0)"
   ]
  },
  {
   "cell_type": "markdown",
   "metadata": {},
   "source": [
    "## Use case: Addition of flow"
   ]
  },
  {
   "cell_type": "code",
   "execution_count": 11,
   "metadata": {},
   "outputs": [],
   "source": [
    "add_flow_baseline = pd.read_csv(\"./data/tmp/add_flow_BASELINE\");\n",
    "add_flow_sgx = pd.read_csv(\"./data/tmp/add_flow_SGX\");\n",
    "add_flow_hotcall = pd.read_csv(\"./data/tmp/add_flow_HOTCALL\");\n",
    "add_flow_optimized = pd.read_csv(\"./data/tmp/add_flow_OPTIMIZED\");\n",
    "add_flow_bundle = pd.read_csv(\"./data/tmp/add_flow_BATCHING\");"
   ]
  },
  {
   "cell_type": "code",
   "execution_count": 4,
   "metadata": {},
   "outputs": [
    {
     "data": {
      "text/plain": [
       "38732    14683.0\n",
       "dtype: float64"
      ]
     },
     "execution_count": 4,
     "metadata": {},
     "output_type": "execute_result"
    }
   ],
   "source": [
    "add_flow_baseline.median()"
   ]
  },
  {
   "cell_type": "code",
   "execution_count": 5,
   "metadata": {},
   "outputs": [
    {
     "data": {
      "text/plain": [
       "287645    33091.0\n",
       "dtype: float64"
      ]
     },
     "execution_count": 5,
     "metadata": {},
     "output_type": "execute_result"
    }
   ],
   "source": [
    "add_flow_hotcall.median()"
   ]
  },
  {
   "cell_type": "code",
   "execution_count": 6,
   "metadata": {},
   "outputs": [
    {
     "data": {
      "text/plain": [
       "277939    19833.0\n",
       "dtype: float64"
      ]
     },
     "execution_count": 6,
     "metadata": {},
     "output_type": "execute_result"
    }
   ],
   "source": [
    "add_flow_optimized.median()"
   ]
  },
  {
   "cell_type": "code",
   "execution_count": 7,
   "metadata": {},
   "outputs": [
    {
     "data": {
      "text/plain": [
       "297709    28096.0\n",
       "dtype: float64"
      ]
     },
     "execution_count": 7,
     "metadata": {},
     "output_type": "execute_result"
    }
   ],
   "source": [
    "add_flow_bundle.median()"
   ]
  },
  {
   "cell_type": "code",
   "execution_count": 8,
   "metadata": {},
   "outputs": [
    {
     "data": {
      "text/plain": [
       "238083    239839.5\n",
       "dtype: float64"
      ]
     },
     "execution_count": 8,
     "metadata": {},
     "output_type": "execute_result"
    }
   ],
   "source": [
    "add_flow_sgx.median()"
   ]
  },
  {
   "cell_type": "code",
   "execution_count": 64,
   "metadata": {
    "scrolled": true
   },
   "outputs": [],
   "source": [
    "add_flows = pd.DataFrame({\n",
    "    \"vanilla\": [add_flow_baseline.median()[0], \n",
    "                add_flow_optimized.median()[0],\n",
    "                add_flow_bundle.median()[0],\n",
    "                add_flow_hotcall.median()[0],\n",
    "                add_flow_sgx.median()[0]]\n",
    "    #\"sgx\": [add_flow_sgx.median()[0]],\n",
    "    #\"hotcall\": [add_flow_hotcall.median()[0]],\n",
    "    #\"opt\": [add_flow_optimized.median()[0]],\n",
    "    #\"bundle\": [add_flow_bundle.median()[0]]\n",
    "}, index=[\"vanilla\", \"opt\", \"bundle\", \"hotcall\", \"sgx\"])"
   ]
  },
  {
   "cell_type": "code",
   "execution_count": 66,
   "metadata": {},
   "outputs": [
    {
     "data": {
      "text/plain": [
       "Text(0.5,1,'Median excution time for adding a flow.')"
      ]
     },
     "execution_count": 66,
     "metadata": {},
     "output_type": "execute_result"
    },
    {
     "data": {
      "image/png": "[encoded data removed]",
      "text/plain": [
       "<Figure size 432x288 with 1 Axes>"
      ]
     },
     "metadata": {
      "needs_background": "light"
     },
     "output_type": "display_data"
    }
   ],
   "source": [
    "add_flows.plot.bar()\n",
    "plt.ylabel(\"Clock cycles\")\n",
    "plt.title(\"Median excution time for adding a flow.\")"
   ]
  },
  {
   "cell_type": "markdown",
   "metadata": {},
   "source": [
    "## Use case: Deletion of flow"
   ]
  },
  {
   "cell_type": "code",
   "execution_count": 25,
   "metadata": {},
   "outputs": [],
   "source": [
    "del_flow_baseline_1 = pd.read_csv(\"./data/tmp/del_flow_sz_1/del_flow_loose_BASELINE\");\n",
    "del_flow_sgx_1 = pd.read_csv(\"./data/tmp/del_flow_sz_1/del_flow_loose_SGX\");\n",
    "del_flow_hotcall_1 = pd.read_csv(\"./data/tmp/del_flow_sz_1/del_flow_loose_HOTCALL\");\n",
    "del_flow_optimized_1 = pd.read_csv(\"./data/tmp/del_flow_sz_1/del_flow_loose_OPTIMIZED\");\n",
    "del_flow_bundle_1 = pd.read_csv(\"./data/tmp/del_flow_sz_1/del_flow_loose_BATCHING\");\n",
    "\n",
    "del_flow_baseline_2 = pd.read_csv(\"./data/tmp/del_flow_loose_BASELINE_2\");\n",
    "del_flow_sgx_2 = pd.read_csv(\"./data/tmp/del_flow_loose_SGX_2\");\n",
    "del_flow_hotcall_2 = pd.read_csv(\"./data/tmp/del_flow_loose_HOTCALL_2\");\n",
    "del_flow_optimized_2 = pd.read_csv(\"./data/tmp/del_flow_loose_OPTIMIZED_2\");\n",
    "del_flow_bundle_2 = pd.read_csv(\"./data/tmp/del_flow_loose_BATCHING_2\");\n",
    "\n",
    "del_flow_baseline_4 = pd.read_csv(\"./data/tmp/del_flow_loose_BASELINE_4\");\n",
    "del_flow_sgx_4 = pd.read_csv(\"./data/tmp/del_flow_loose_SGX_4\");\n",
    "del_flow_hotcall_4 = pd.read_csv(\"./data/tmp/del_flow_loose_HOTCALL_4\");\n",
    "del_flow_optimized_4 = pd.read_csv(\"./data/tmp/del_flow_loose_OPTIMIZED_4\");\n",
    "del_flow_bundle_4 = pd.read_csv(\"./data/tmp/del_flow_loose_BATCHING_4\");\n",
    "\n",
    "del_flow_baseline_8 = pd.read_csv(\"./data/tmp/del_flow_loose_BASELINE_8\");\n",
    "del_flow_sgx_8 = pd.read_csv(\"./data/tmp/del_flow_loose_SGX_8\");\n",
    "del_flow_hotcall_8 = pd.read_csv(\"./data/tmp/del_flow_loose_HOTCALL_8\");\n",
    "del_flow_optimized_8 = pd.read_csv(\"./data/tmp/del_flow_loose_OPTIMIZED_8\");\n",
    "del_flow_bundle_8 = pd.read_csv(\"./data/tmp/del_flow_loose_BATCHING_8\");\n",
    "\n",
    "del_flow_baseline_16 = pd.read_csv(\"./data/tmp/del_flow_loose_BASELINE_16\");\n",
    "del_flow_sgx_16 = pd.read_csv(\"./data/tmp/del_flow_loose_SGX_8\");\n",
    "del_flow_hotcall_16 = pd.read_csv(\"./data/tmp/del_flow_loose_HOTCALL_16\");\n",
    "del_flow_optimized_16 = pd.read_csv(\"./data/tmp/del_flow_loose_OPTIMIZED_16\");\n",
    "del_flow_bundle_16 = pd.read_csv(\"./data/tmp/del_flow_loose_BATCHING_16\");"
   ]
  },
  {
   "cell_type": "code",
   "execution_count": 26,
   "metadata": {},
   "outputs": [
    {
     "data": {
      "text/plain": [
       "164795    234747.0\n",
       "dtype: float64"
      ]
     },
     "execution_count": 26,
     "metadata": {},
     "output_type": "execute_result"
    }
   ],
   "source": [
    "del_flow_sgx_1.median()"
   ]
  },
  {
   "cell_type": "code",
   "execution_count": 27,
   "metadata": {},
   "outputs": [
    {
     "data": {
      "text/plain": [
       "142160    89396.0\n",
       "dtype: float64"
      ]
     },
     "execution_count": 27,
     "metadata": {},
     "output_type": "execute_result"
    }
   ],
   "source": [
    "del_flow_bundle_16.median()"
   ]
  },
  {
   "cell_type": "code",
   "execution_count": 28,
   "metadata": {},
   "outputs": [
    {
     "data": {
      "text/plain": [
       "165089    106819.0\n",
       "dtype: float64"
      ]
     },
     "execution_count": 28,
     "metadata": {},
     "output_type": "execute_result"
    }
   ],
   "source": [
    "del_flow_optimized_16.median()"
   ]
  },
  {
   "cell_type": "code",
   "execution_count": 38,
   "metadata": {},
   "outputs": [],
   "source": [
    "mod_flows = pd.DataFrame({\n",
    "    \"vanilla\": [\n",
    "        del_flow_baseline_1.median()[0], \n",
    "        del_flow_baseline_2.median()[0], \n",
    "        del_flow_baseline_4.median()[0], \n",
    "        del_flow_baseline_8.median()[0],\n",
    "        del_flow_baseline_16.median()[0]\n",
    "    ],\n",
    "    #\"sgx\": [del_flow_sgx_1.median()[0], del_flow_sgx_2.median()[0], del_flow_sgx_4.median()[0], del_flow_sgx_8.median()[0]],\n",
    "    \"hotcall\": [\n",
    "        del_flow_hotcall_1.median()[0], \n",
    "        del_flow_hotcall_2.median()[0], \n",
    "        del_flow_hotcall_4.median()[0], \n",
    "        del_flow_hotcall_8.median()[0],\n",
    "        del_flow_hotcall_16.median()[0]\n",
    "    ],\n",
    "    \"opt\": [\n",
    "        del_flow_optimized_1.median()[0], \n",
    "        del_flow_optimized_2.median()[0], \n",
    "        del_flow_optimized_4.median()[0], \n",
    "        del_flow_optimized_8.median()[0],\n",
    "        del_flow_optimized_16.median()[0]\n",
    "    ],\n",
    "    \"bundle\": [\n",
    "        del_flow_bundle_1.median()[0], \n",
    "        del_flow_bundle_2.median()[0], \n",
    "        del_flow_bundle_4.median()[0], \n",
    "        del_flow_bundle_8.median()[0],\n",
    "        del_flow_bundle_16.median()[0]\n",
    "    ]\n",
    "}, index=[1, 2, 4, 8, 16])"
   ]
  },
  {
   "cell_type": "code",
   "execution_count": 40,
   "metadata": {},
   "outputs": [
    {
     "data": {
      "text/plain": [
       "Text(0.5,1,'Median excution time for deleting flows.')"
      ]
     },
     "execution_count": 40,
     "metadata": {},
     "output_type": "execute_result"
    },
    {
     "data": {
      "image/png": "[encoded data removed]",
      "text/plain": [
       "<Figure size 432x288 with 1 Axes>"
      ]
     },
     "metadata": {
      "needs_background": "light"
     },
     "output_type": "display_data"
    }
   ],
   "source": [
    "mod_flows[['vanilla', 'opt', 'bundle', 'hotcall']].plot.bar()\n",
    "plt.xlabel(\"number of flows to delete\")\n",
    "plt.ylabel(\"Clock cycles\")\n",
    "plt.title(\"Median excution time for deleting flows.\")"
   ]
  },
  {
   "cell_type": "markdown",
   "metadata": {},
   "source": [
    "## Use case: Modification of flow"
   ]
  },
  {
   "cell_type": "code",
   "execution_count": 20,
   "metadata": {},
   "outputs": [],
   "source": [
    "mod_flow_baseline_1 = pd.read_csv(\"./data/tmp/mod_flow_sz_1/mod_flow_loose_BASELINE_1\");\n",
    "mod_flow_sgx_1 = pd.read_csv(\"./data/tmp/mod_flow_sz_1/mod_flow_loose_SGX_1\");\n",
    "mod_flow_hotcall_1 = pd.read_csv(\"./data/tmp/mod_flow_sz_1/mod_flow_loose_HOTCALL_1\");\n",
    "mod_flow_optimized_1 = pd.read_csv(\"./data/tmp/mod_flow_sz_1/mod_flow_loose_OPTIMIZED_1\");\n",
    "mod_flow_bundle_1 = pd.read_csv(\"./data/tmp/mod_flow_sz_1/mod_flow_loose_BATCHING_1\");\n",
    "#mod_flow_memoize_1 = pd.read_csv(\"./data/tmp/mod_flow_loose_MEMOIZE_1\");\n",
    "\n",
    "mod_flow_baseline_2 = pd.read_csv(\"./data/tmp/mod_flow_sz_2/mod_flow_loose_BASELINE_2\");\n",
    "mod_flow_sgx_2 = pd.read_csv(\"./data/tmp/mod_flow_sz_2/mod_flow_loose_SGX_2\");\n",
    "mod_flow_hotcall_2 = pd.read_csv(\"./data/tmp/mod_flow_sz_2/mod_flow_loose_HOTCALL_2\");\n",
    "mod_flow_optimized_2 = pd.read_csv(\"./data/tmp/mod_flow_sz_2/mod_flow_loose_OPTIMIZED_2\");\n",
    "mod_flow_bundle_2 = pd.read_csv(\"./data/tmp/mod_flow_sz_2/mod_flow_loose_BATCHING_2\");\n",
    "#mod_flow_memoize_2 = pd.read_csv(\"./data/tmp/mod_flow_loose_MEMOIZE_2\");\n",
    "\n",
    "mod_flow_baseline_4 = pd.read_csv(\"./data/tmp/mod_flow_sz_4/mod_flow_loose_BASELINE_4\");\n",
    "mod_flow_sgx_4 = pd.read_csv(\"./data/tmp/mod_flow_sz_4/mod_flow_loose_SGX_4\");\n",
    "mod_flow_hotcall_4 = pd.read_csv(\"./data/tmp/mod_flow_sz_4/mod_flow_loose_HOTCALL_4\");\n",
    "mod_flow_optimized_4 = pd.read_csv(\"./data/tmp/mod_flow_sz_4/mod_flow_loose_OPTIMIZED_4\");\n",
    "mod_flow_bundle_4 = pd.read_csv(\"./data/tmp/mod_flow_sz_4/mod_flow_loose_BATCHING_4\");\n",
    "#mod_flow_memoize_4 = pd.read_csv(\"./data/tmp/mod_flow_loose_MEMOIZE_4\");\n",
    "\n",
    "mod_flow_baseline_8 = pd.read_csv(\"./data/tmp/mod_flow_sz_8/mod_flow_loose_BASELINE_8\");\n",
    "mod_flow_sgx_8 = pd.read_csv(\"./data/tmp/mod_flow_sz_8/mod_flow_loose_SGX_8\");\n",
    "mod_flow_hotcall_8 = pd.read_csv(\"./data/tmp/mod_flow_sz_8/mod_flow_loose_HOTCALL_8\");\n",
    "mod_flow_optimized_8 = pd.read_csv(\"./data/tmp/mod_flow_sz_8/mod_flow_loose_OPTIMIZED_8\");\n",
    "mod_flow_bundle_8 = pd.read_csv(\"./data/tmp/mod_flow_sz_8/mod_flow_loose_BATCHING_8\");\n",
    "#mod_flow_memoize_8 = pd.read_csv(\"./data/tmp/mod_flow_loose_MEMOIZE_8\");\n",
    "\n",
    "mod_flow_baseline_16 = pd.read_csv(\"./data/tmp/mod_flow_sz_16/mod_flow_loose_BASELINE_16\");\n",
    "mod_flow_sgx_16 = pd.read_csv(\"./data/tmp/mod_flow_sz_16/mod_flow_loose_SGX_16\");\n",
    "mod_flow_hotcall_16 = pd.read_csv(\"./data/tmp/mod_flow_sz_16/mod_flow_loose_HOTCALL_16\");\n",
    "mod_flow_optimized_16 = pd.read_csv(\"./data/tmp/mod_flow_sz_16/mod_flow_loose_OPTIMIZED_16\");\n",
    "mod_flow_bundle_16 = pd.read_csv(\"./data/tmp/mod_flow_sz_16/mod_flow_loose_BATCHING_16\");\n",
    "#mod_flow_memoize_16 = pd.read_csv(\"./data/tmp/mod_flow_loose_MEMOIZE_16\");"
   ]
  },
  {
   "cell_type": "code",
   "execution_count": 21,
   "metadata": {},
   "outputs": [
    {
     "data": {
      "text/plain": [
       "113141    264961.0\n",
       "dtype: float64"
      ]
     },
     "execution_count": 21,
     "metadata": {},
     "output_type": "execute_result"
    }
   ],
   "source": [
    "mod_flow_sgx_1.median()"
   ]
  },
  {
   "cell_type": "code",
   "execution_count": 41,
   "metadata": {},
   "outputs": [],
   "source": [
    "mod_flows = pd.DataFrame({\n",
    "    \"vanilla\": [mod_flow_baseline_1.median()[0], mod_flow_baseline_2.median()[0], mod_flow_baseline_4.median()[0], mod_flow_baseline_8.median()[0], mod_flow_baseline_16.median()[0]],\n",
    "    \"sgx\": [mod_flow_sgx_1.median()[0], mod_flow_sgx_2.median()[0], mod_flow_sgx_4.median()[0], mod_flow_sgx_8.median()[0], mod_flow_sgx_16.median()[0]],\n",
    "    \"hotcall\": [mod_flow_hotcall_1.median()[0], mod_flow_hotcall_2.median()[0], mod_flow_hotcall_4.median()[0], mod_flow_hotcall_8.median()[0], mod_flow_hotcall_16.median()[0]],\n",
    "    \"opt\": [mod_flow_optimized_1.median()[0], mod_flow_optimized_2.median()[0], mod_flow_optimized_4.median()[0], mod_flow_optimized_8.median()[0], mod_flow_optimized_16.median()[0]],\n",
    "    \"bundle\": [mod_flow_bundle_1.median()[0], mod_flow_bundle_2.median()[0], mod_flow_bundle_4.median()[0], mod_flow_bundle_8.median()[0], mod_flow_bundle_16.median()[0]],\n",
    "    #\"memo\": [mod_flow_memoize_1.median()[0], mod_flow_memoize_2.median()[0], mod_flow_memoize_4.median()[0], mod_flow_memoize_8.median()[0], mod_flow_memoize_16.median()[0]],\n",
    "}, index=[1, 2, 4, 8, 16])"
   ]
  },
  {
   "cell_type": "code",
   "execution_count": 43,
   "metadata": {
    "scrolled": true
   },
   "outputs": [
    {
     "data": {
      "text/plain": [
       "Text(0.5,1,'Median excution time for modifying flows.')"
      ]
     },
     "execution_count": 43,
     "metadata": {},
     "output_type": "execute_result"
    },
    {
     "data": {
      "image/png": "[encoded data removed]",
      "text/plain": [
       "<Figure size 432x288 with 1 Axes>"
      ]
     },
     "metadata": {
      "needs_background": "light"
     },
     "output_type": "display_data"
    }
   ],
   "source": [
    "mod_flows[['vanilla', 'opt', 'bundle', 'hotcall', 'sgx']].plot.bar()\n",
    "plt.xlabel(\"number of flows to modify\")\n",
    "plt.ylabel(\"Clock cycles\")\n",
    "plt.title(\"Median excution time for modifying flows.\")"
   ]
  },
  {
   "cell_type": "code",
   "execution_count": 56,
   "metadata": {},
   "outputs": [
    {
     "data": {
      "text/plain": [
       "Text(0.5,1,'Median excution time for modifying flows.')"
      ]
     },
     "execution_count": 56,
     "metadata": {},
     "output_type": "execute_result"
    },
    {
     "data": {
      "image/png": "[encoded data removed]",
      "text/plain": [
       "<Figure size 432x288 with 1 Axes>"
      ]
     },
     "metadata": {
      "needs_background": "light"
     },
     "output_type": "display_data"
    }
   ],
   "source": [
    "mod_flows[['vanilla', 'opt', 'bundle', 'hotcall']].plot.bar()\n",
    "plt.xlabel(\"number of flows to modify\")\n",
    "plt.ylabel(\"Clock cycles\")\n",
    "plt.title(\"Median excution time for modifying flows.\")"
   ]
  },
  {
   "cell_type": "markdown",
   "metadata": {},
   "source": [
    "The previous graph without sgx version. "
   ]
  },
  {
   "cell_type": "markdown",
   "metadata": {},
   "source": [
    "An interesting observartion is that the optimized version is actually faster than the original when modifying 1 and 2 flows. This is a quite strange results. Possible reasons could be that the orignal version is implemented in a very non optimized way or there is some kind of bug in my optimized versions. However, all tests are passing."
   ]
  },
  {
   "cell_type": "markdown",
   "metadata": {},
   "source": [
    "## Use case: evicition"
   ]
  },
  {
   "cell_type": "code",
   "execution_count": 48,
   "metadata": {},
   "outputs": [],
   "source": [
    "evict_flow_baseline_1 = pd.read_csv(\"./data/tmp/evict_rule_sz_1/evict_rule_batch_BASELINE_1\");\n",
    "evict_flow_hotcall_1 = pd.read_csv(\"./data/tmp/evict_rule_sz_1/evict_rule_batch_HOTCALL_1\");\n",
    "evict_flow_optimized_1 = pd.read_csv(\"./data/tmp/evict_rule_sz_1/evict_rule_batch_OPTIMIZED_1\");\n",
    "evict_flow_bundle_1 = pd.read_csv(\"./data/tmp/evict_rule_sz_1/evict_rule_batch_BATCHING_1\");\n",
    "\n",
    "evict_flow_baseline_2 = pd.read_csv(\"./data/tmp/evict_rule_sz_2/evict_rule_batch_BASELINE_2\");\n",
    "evict_flow_hotcall_2 = pd.read_csv(\"./data/tmp/evict_rule_sz_2/evict_rule_batch_HOTCALL_2\");\n",
    "evict_flow_optimized_2 = pd.read_csv(\"./data/tmp/evict_rule_sz_2/evict_rule_batch_OPTIMIZED_2\");\n",
    "evict_flow_bundle_2 = pd.read_csv(\"./data/tmp/evict_rule_sz_2/evict_rule_batch_BATCHING_2\");\n",
    "\n",
    "evict_flow_baseline_4 = pd.read_csv(\"./data/tmp/evict_rule_sz_4/evict_rule_batch_BASELINE_4\");\n",
    "evict_flow_hotcall_4 = pd.read_csv(\"./data/tmp/evict_rule_sz_4/evict_rule_batch_HOTCALL_4\");\n",
    "evict_flow_optimized_4 = pd.read_csv(\"./data/tmp/evict_rule_sz_4/evict_rule_batch_OPTIMIZED_4\");\n",
    "evict_flow_bundle_4 = pd.read_csv(\"./data/tmp/evict_rule_sz_4/evict_rule_batch_BATCHING_4\");\n",
    "\n",
    "evict_flow_baseline_8 = pd.read_csv(\"./data/tmp/evict_rule_sz_8/evict_rule_batch_BASELINE_8\");\n",
    "evict_flow_hotcall_8 = pd.read_csv(\"./data/tmp/evict_rule_sz_8/evict_rule_batch_HOTCALL_8\");\n",
    "evict_flow_optimized_8 = pd.read_csv(\"./data/tmp/evict_rule_sz_8/evict_rule_batch_OPTIMIZED_8\");\n",
    "evict_flow_bundle_8 = pd.read_csv(\"./data/tmp/evict_rule_sz_8/evict_rule_batch_BATCHING_8\");\n",
    "\n",
    "evict_flow_baseline_16 = pd.read_csv(\"./data/tmp/evict_rule_sz_16/evict_rule_batch_BASELINE_16\");\n",
    "evict_flow_hotcall_16 = pd.read_csv(\"./data/tmp/evict_rule_sz_16/evict_rule_batch_HOTCALL_16\");\n",
    "evict_flow_optimized_16 = pd.read_csv(\"./data/tmp/evict_rule_sz_16/evict_rule_batch_OPTIMIZED_16\");\n",
    "evict_flow_bundle_16 = pd.read_csv(\"./data/tmp/evict_rule_sz_16/evict_rule_batch_BATCHING_16\");\n"
   ]
  },
  {
   "cell_type": "code",
   "execution_count": 50,
   "metadata": {},
   "outputs": [],
   "source": [
    "evict_flows = pd.DataFrame({\n",
    "    \"vanilla\": [\n",
    "        evict_flow_baseline_1.median()[0], \n",
    "        evict_flow_baseline_2.median()[0], \n",
    "        evict_flow_baseline_4.median()[0], \n",
    "        evict_flow_baseline_8.median()[0],\n",
    "        evict_flow_baseline_16.median()[0]\n",
    "    ],\n",
    "    #\"sgx\": [del_flow_sgx_1.median()[0], del_flow_sgx_2.median()[0], del_flow_sgx_4.median()[0], del_flow_sgx_8.median()[0]],\n",
    "    \"hotcall\": [\n",
    "        evict_flow_hotcall_1.median()[0], \n",
    "        evict_flow_hotcall_2.median()[0], \n",
    "        evict_flow_hotcall_4.median()[0], \n",
    "        evict_flow_hotcall_8.median()[0],\n",
    "        evict_flow_hotcall_16.median()[0]\n",
    "    ],\n",
    "    \"opt\": [\n",
    "        evict_flow_optimized_1.median()[0], \n",
    "        evict_flow_optimized_2.median()[0], \n",
    "        evict_flow_optimized_4.median()[0], \n",
    "        evict_flow_optimized_8.median()[0],\n",
    "        evict_flow_optimized_16.median()[0]\n",
    "    ],\n",
    "    \"bundle\": [\n",
    "        evict_flow_bundle_1.median()[0], \n",
    "        evict_flow_bundle_2.median()[0], \n",
    "        evict_flow_bundle_4.median()[0], \n",
    "        evict_flow_bundle_8.median()[0],\n",
    "        evict_flow_bundle_16.median()[0]\n",
    "    ]\n",
    "}, index=[1, 2, 4, 8, 16])"
   ]
  },
  {
   "cell_type": "code",
   "execution_count": 51,
   "metadata": {
    "scrolled": true
   },
   "outputs": [
    {
     "data": {
      "text/plain": [
       "Text(0.5,1,'Median excution time for evicting flows.')"
      ]
     },
     "execution_count": 51,
     "metadata": {},
     "output_type": "execute_result"
    },
    {
     "data": {
      "image/png": "[encoded data removed]",
      "text/plain": [
       "<Figure size 432x288 with 1 Axes>"
      ]
     },
     "metadata": {
      "needs_background": "light"
     },
     "output_type": "display_data"
    }
   ],
   "source": [
    "evict_flows[['vanilla', 'opt', 'bundle', 'hotcall']].plot.bar()\n",
    "plt.xlabel(\"number of flows to evict\")\n",
    "plt.ylabel(\"Clock cycles\")\n",
    "plt.title(\"Median excution time for evicting flows.\")"
   ]
  },
  {
   "cell_type": "code",
   "execution_count": 55,
   "metadata": {
    "scrolled": true
   },
   "outputs": [
    {
     "data": {
      "text/plain": [
       "Text(0.5,1,'Median excution time for evicting flows.')"
      ]
     },
     "execution_count": 55,
     "metadata": {},
     "output_type": "execute_result"
    },
    {
     "data": {
      "image/png": "[encoded data removed]",
      "text/plain": [
       "<Figure size 432x288 with 1 Axes>"
      ]
     },
     "metadata": {
      "needs_background": "light"
     },
     "output_type": "display_data"
    }
   ],
   "source": [
    "evict_flows[['vanilla', 'opt', 'bundle']].plot.bar()\n",
    "plt.xlabel(\"number of flows to evict\")\n",
    "plt.ylabel(\"Clock cycles\")\n",
    "plt.title(\"Median excution time for evicting flows.\")"
   ]
  },
  {
   "cell_type": "markdown",
   "metadata": {},
   "source": [
    "The previous graph without hotcall version. "
   ]
  },
  {
   "cell_type": "markdown",
   "metadata": {},
   "source": [
    "## Use case: miss upcall (work in progress)"
   ]
  },
  {
   "cell_type": "code",
   "execution_count": 54,
   "metadata": {
    "scrolled": true
   },
   "outputs": [
    {
     "ename": "IOError",
     "evalue": "[Errno 2] File ./data/tmp/udp_latency_rt_BASELINE_8 does not exist: './data/tmp/udp_latency_rt_BASELINE_8'",
     "output_type": "error",
     "traceback": [
      "\u001b[0;31m---------------------------------------------------------------------------\u001b[0m",
      "\u001b[0;31mIOError\u001b[0m                                   Traceback (most recent call last)",
      "\u001b[0;32m<ipython-input-54-97ff62e3281d>\u001b[0m in \u001b[0;36m<module>\u001b[0;34m()\u001b[0m\n\u001b[0;32m----> 1\u001b[0;31m \u001b[0mrt_baseline_8\u001b[0m \u001b[0;34m=\u001b[0m \u001b[0mread_input\u001b[0m\u001b[0;34m(\u001b[0m\u001b[0;34m\"./data/tmp/udp_latency_rt_BASELINE_8\"\u001b[0m\u001b[0;34m)\u001b[0m\u001b[0;34m;\u001b[0m\u001b[0;34m\u001b[0m\u001b[0m\n\u001b[0m\u001b[1;32m      2\u001b[0m \"\"\"\n\u001b[1;32m      3\u001b[0m \u001b[0mrt_baseline_32\u001b[0m \u001b[0;34m=\u001b[0m \u001b[0mread_input\u001b[0m\u001b[0;34m(\u001b[0m\u001b[0;34m\"./data/tmp/udp_latency_rt_BASELINE_32\"\u001b[0m\u001b[0;34m)\u001b[0m\u001b[0;34m;\u001b[0m\u001b[0;34m\u001b[0m\u001b[0m\n\u001b[1;32m      4\u001b[0m \u001b[0mrt_baseline_256\u001b[0m \u001b[0;34m=\u001b[0m \u001b[0mread_input\u001b[0m\u001b[0;34m(\u001b[0m\u001b[0;34m\"./data/tmp/udp_latency_rt_BASELINE_256\"\u001b[0m\u001b[0;34m)\u001b[0m\u001b[0;34m;\u001b[0m\u001b[0;34m\u001b[0m\u001b[0m\n\u001b[1;32m      5\u001b[0m \u001b[0mrt_baseline_512\u001b[0m \u001b[0;34m=\u001b[0m \u001b[0mread_input\u001b[0m\u001b[0;34m(\u001b[0m\u001b[0;34m\"./data/tmp/udp_latency_rt_BASELINE_512\"\u001b[0m\u001b[0;34m)\u001b[0m\u001b[0;34m;\u001b[0m\u001b[0;34m\u001b[0m\u001b[0m\n",
      "\u001b[0;32m<ipython-input-2-a94e2c00858c>\u001b[0m in \u001b[0;36mread_input\u001b[0;34m(s)\u001b[0m\n\u001b[1;32m      3\u001b[0m \u001b[0;31m# Helper function to read input data\u001b[0m\u001b[0;34m\u001b[0m\u001b[0;34m\u001b[0m\u001b[0m\n\u001b[1;32m      4\u001b[0m \u001b[0;32mdef\u001b[0m \u001b[0mread_input\u001b[0m\u001b[0;34m(\u001b[0m\u001b[0ms\u001b[0m\u001b[0;34m)\u001b[0m\u001b[0;34m:\u001b[0m\u001b[0;34m\u001b[0m\u001b[0m\n\u001b[0;32m----> 5\u001b[0;31m     \u001b[0mdf\u001b[0m \u001b[0;34m=\u001b[0m \u001b[0mpd\u001b[0m\u001b[0;34m.\u001b[0m\u001b[0mread_csv\u001b[0m\u001b[0;34m(\u001b[0m\u001b[0ms\u001b[0m\u001b[0;34m,\u001b[0m \u001b[0mheader\u001b[0m\u001b[0;34m=\u001b[0m\u001b[0mNone\u001b[0m\u001b[0;34m,\u001b[0m \u001b[0mnames\u001b[0m\u001b[0;34m=\u001b[0m\u001b[0;34m[\u001b[0m\u001b[0;34m'execution_time'\u001b[0m\u001b[0;34m]\u001b[0m\u001b[0;34m)\u001b[0m\u001b[0;34m\u001b[0m\u001b[0m\n\u001b[0m\u001b[1;32m      6\u001b[0m     \u001b[0;32mreturn\u001b[0m \u001b[0mdf\u001b[0m    \u001b[0;34m.\u001b[0m\u001b[0mmask\u001b[0m\u001b[0;34m(\u001b[0m\u001b[0mdf\u001b[0m\u001b[0;34m[\u001b[0m\u001b[0;34m'execution_time'\u001b[0m\u001b[0;34m]\u001b[0m \u001b[0;34m>\u001b[0m \u001b[0mdf\u001b[0m\u001b[0;34m[\u001b[0m\u001b[0;34m'execution_time'\u001b[0m\u001b[0;34m]\u001b[0m\u001b[0;34m.\u001b[0m\u001b[0mquantile\u001b[0m\u001b[0;34m(\u001b[0m\u001b[0;36m0.95\u001b[0m\u001b[0;34m)\u001b[0m\u001b[0;34m,\u001b[0m \u001b[0maxis\u001b[0m\u001b[0;34m=\u001b[0m\u001b[0;36m0\u001b[0m\u001b[0;34m)\u001b[0m\u001b[0;34m\u001b[0m\u001b[0m\n",
      "\u001b[0;32m/usr/local/lib/python2.7/dist-packages/pandas/io/parsers.pyc\u001b[0m in \u001b[0;36mparser_f\u001b[0;34m(filepath_or_buffer, sep, delimiter, header, names, index_col, usecols, squeeze, prefix, mangle_dupe_cols, dtype, engine, converters, true_values, false_values, skipinitialspace, skiprows, skipfooter, nrows, na_values, keep_default_na, na_filter, verbose, skip_blank_lines, parse_dates, infer_datetime_format, keep_date_col, date_parser, dayfirst, iterator, chunksize, compression, thousands, decimal, lineterminator, quotechar, quoting, doublequote, escapechar, comment, encoding, dialect, tupleize_cols, error_bad_lines, warn_bad_lines, delim_whitespace, low_memory, memory_map, float_precision)\u001b[0m\n\u001b[1;32m    700\u001b[0m                     skip_blank_lines=skip_blank_lines)\n\u001b[1;32m    701\u001b[0m \u001b[0;34m\u001b[0m\u001b[0m\n\u001b[0;32m--> 702\u001b[0;31m         \u001b[0;32mreturn\u001b[0m \u001b[0m_read\u001b[0m\u001b[0;34m(\u001b[0m\u001b[0mfilepath_or_buffer\u001b[0m\u001b[0;34m,\u001b[0m \u001b[0mkwds\u001b[0m\u001b[0;34m)\u001b[0m\u001b[0;34m\u001b[0m\u001b[0m\n\u001b[0m\u001b[1;32m    703\u001b[0m \u001b[0;34m\u001b[0m\u001b[0m\n\u001b[1;32m    704\u001b[0m     \u001b[0mparser_f\u001b[0m\u001b[0;34m.\u001b[0m\u001b[0m__name__\u001b[0m \u001b[0;34m=\u001b[0m \u001b[0mname\u001b[0m\u001b[0;34m\u001b[0m\u001b[0m\n",
      "\u001b[0;32m/usr/local/lib/python2.7/dist-packages/pandas/io/parsers.pyc\u001b[0m in \u001b[0;36m_read\u001b[0;34m(filepath_or_buffer, kwds)\u001b[0m\n\u001b[1;32m    427\u001b[0m \u001b[0;34m\u001b[0m\u001b[0m\n\u001b[1;32m    428\u001b[0m     \u001b[0;31m# Create the parser.\u001b[0m\u001b[0;34m\u001b[0m\u001b[0;34m\u001b[0m\u001b[0m\n\u001b[0;32m--> 429\u001b[0;31m     \u001b[0mparser\u001b[0m \u001b[0;34m=\u001b[0m \u001b[0mTextFileReader\u001b[0m\u001b[0;34m(\u001b[0m\u001b[0mfilepath_or_buffer\u001b[0m\u001b[0;34m,\u001b[0m \u001b[0;34m**\u001b[0m\u001b[0mkwds\u001b[0m\u001b[0;34m)\u001b[0m\u001b[0;34m\u001b[0m\u001b[0m\n\u001b[0m\u001b[1;32m    430\u001b[0m \u001b[0;34m\u001b[0m\u001b[0m\n\u001b[1;32m    431\u001b[0m     \u001b[0;32mif\u001b[0m \u001b[0mchunksize\u001b[0m \u001b[0;32mor\u001b[0m \u001b[0miterator\u001b[0m\u001b[0;34m:\u001b[0m\u001b[0;34m\u001b[0m\u001b[0m\n",
      "\u001b[0;32m/usr/local/lib/python2.7/dist-packages/pandas/io/parsers.pyc\u001b[0m in \u001b[0;36m__init__\u001b[0;34m(self, f, engine, **kwds)\u001b[0m\n\u001b[1;32m    893\u001b[0m             \u001b[0mself\u001b[0m\u001b[0;34m.\u001b[0m\u001b[0moptions\u001b[0m\u001b[0;34m[\u001b[0m\u001b[0;34m'has_index_names'\u001b[0m\u001b[0;34m]\u001b[0m \u001b[0;34m=\u001b[0m \u001b[0mkwds\u001b[0m\u001b[0;34m[\u001b[0m\u001b[0;34m'has_index_names'\u001b[0m\u001b[0;34m]\u001b[0m\u001b[0;34m\u001b[0m\u001b[0m\n\u001b[1;32m    894\u001b[0m \u001b[0;34m\u001b[0m\u001b[0m\n\u001b[0;32m--> 895\u001b[0;31m         \u001b[0mself\u001b[0m\u001b[0;34m.\u001b[0m\u001b[0m_make_engine\u001b[0m\u001b[0;34m(\u001b[0m\u001b[0mself\u001b[0m\u001b[0;34m.\u001b[0m\u001b[0mengine\u001b[0m\u001b[0;34m)\u001b[0m\u001b[0;34m\u001b[0m\u001b[0m\n\u001b[0m\u001b[1;32m    896\u001b[0m \u001b[0;34m\u001b[0m\u001b[0m\n\u001b[1;32m    897\u001b[0m     \u001b[0;32mdef\u001b[0m \u001b[0mclose\u001b[0m\u001b[0;34m(\u001b[0m\u001b[0mself\u001b[0m\u001b[0;34m)\u001b[0m\u001b[0;34m:\u001b[0m\u001b[0;34m\u001b[0m\u001b[0m\n",
      "\u001b[0;32m/usr/local/lib/python2.7/dist-packages/pandas/io/parsers.pyc\u001b[0m in \u001b[0;36m_make_engine\u001b[0;34m(self, engine)\u001b[0m\n\u001b[1;32m   1120\u001b[0m     \u001b[0;32mdef\u001b[0m \u001b[0m_make_engine\u001b[0m\u001b[0;34m(\u001b[0m\u001b[0mself\u001b[0m\u001b[0;34m,\u001b[0m \u001b[0mengine\u001b[0m\u001b[0;34m=\u001b[0m\u001b[0;34m'c'\u001b[0m\u001b[0;34m)\u001b[0m\u001b[0;34m:\u001b[0m\u001b[0;34m\u001b[0m\u001b[0m\n\u001b[1;32m   1121\u001b[0m         \u001b[0;32mif\u001b[0m \u001b[0mengine\u001b[0m \u001b[0;34m==\u001b[0m \u001b[0;34m'c'\u001b[0m\u001b[0;34m:\u001b[0m\u001b[0;34m\u001b[0m\u001b[0m\n\u001b[0;32m-> 1122\u001b[0;31m             \u001b[0mself\u001b[0m\u001b[0;34m.\u001b[0m\u001b[0m_engine\u001b[0m \u001b[0;34m=\u001b[0m \u001b[0mCParserWrapper\u001b[0m\u001b[0;34m(\u001b[0m\u001b[0mself\u001b[0m\u001b[0;34m.\u001b[0m\u001b[0mf\u001b[0m\u001b[0;34m,\u001b[0m \u001b[0;34m**\u001b[0m\u001b[0mself\u001b[0m\u001b[0;34m.\u001b[0m\u001b[0moptions\u001b[0m\u001b[0;34m)\u001b[0m\u001b[0;34m\u001b[0m\u001b[0m\n\u001b[0m\u001b[1;32m   1123\u001b[0m         \u001b[0;32melse\u001b[0m\u001b[0;34m:\u001b[0m\u001b[0;34m\u001b[0m\u001b[0m\n\u001b[1;32m   1124\u001b[0m             \u001b[0;32mif\u001b[0m \u001b[0mengine\u001b[0m \u001b[0;34m==\u001b[0m \u001b[0;34m'python'\u001b[0m\u001b[0;34m:\u001b[0m\u001b[0;34m\u001b[0m\u001b[0m\n",
      "\u001b[0;32m/usr/local/lib/python2.7/dist-packages/pandas/io/parsers.pyc\u001b[0m in \u001b[0;36m__init__\u001b[0;34m(self, src, **kwds)\u001b[0m\n\u001b[1;32m   1851\u001b[0m         \u001b[0mkwds\u001b[0m\u001b[0;34m[\u001b[0m\u001b[0;34m'usecols'\u001b[0m\u001b[0;34m]\u001b[0m \u001b[0;34m=\u001b[0m \u001b[0mself\u001b[0m\u001b[0;34m.\u001b[0m\u001b[0musecols\u001b[0m\u001b[0;34m\u001b[0m\u001b[0m\n\u001b[1;32m   1852\u001b[0m \u001b[0;34m\u001b[0m\u001b[0m\n\u001b[0;32m-> 1853\u001b[0;31m         \u001b[0mself\u001b[0m\u001b[0;34m.\u001b[0m\u001b[0m_reader\u001b[0m \u001b[0;34m=\u001b[0m \u001b[0mparsers\u001b[0m\u001b[0;34m.\u001b[0m\u001b[0mTextReader\u001b[0m\u001b[0;34m(\u001b[0m\u001b[0msrc\u001b[0m\u001b[0;34m,\u001b[0m \u001b[0;34m**\u001b[0m\u001b[0mkwds\u001b[0m\u001b[0;34m)\u001b[0m\u001b[0;34m\u001b[0m\u001b[0m\n\u001b[0m\u001b[1;32m   1854\u001b[0m         \u001b[0mself\u001b[0m\u001b[0;34m.\u001b[0m\u001b[0munnamed_cols\u001b[0m \u001b[0;34m=\u001b[0m \u001b[0mself\u001b[0m\u001b[0;34m.\u001b[0m\u001b[0m_reader\u001b[0m\u001b[0;34m.\u001b[0m\u001b[0munnamed_cols\u001b[0m\u001b[0;34m\u001b[0m\u001b[0m\n\u001b[1;32m   1855\u001b[0m \u001b[0;34m\u001b[0m\u001b[0m\n",
      "\u001b[0;32mpandas/_libs/parsers.pyx\u001b[0m in \u001b[0;36mpandas._libs.parsers.TextReader.__cinit__\u001b[0;34m()\u001b[0m\n",
      "\u001b[0;32mpandas/_libs/parsers.pyx\u001b[0m in \u001b[0;36mpandas._libs.parsers.TextReader._setup_parser_source\u001b[0;34m()\u001b[0m\n",
      "\u001b[0;31mIOError\u001b[0m: [Errno 2] File ./data/tmp/udp_latency_rt_BASELINE_8 does not exist: './data/tmp/udp_latency_rt_BASELINE_8'"
     ]
    }
   ],
   "source": [
    "rt_baseline_8 = read_input(\"./data/tmp/udp_latency_rt_BASELINE_8\");\n",
    "\"\"\"\n",
    "rt_baseline_32 = read_input(\"./data/tmp/udp_latency_rt_BASELINE_32\");\n",
    "rt_baseline_256 = read_input(\"./data/tmp/udp_latency_rt_BASELINE_256\");\n",
    "rt_baseline_512 = read_input(\"./data/tmp/udp_latency_rt_BASELINE_512\");\n",
    "rt_baseline_1024 = read_input(\"./data/tmp/udp_latency_rt_BASELINE_1024\");\n",
    "\"\"\"\n",
    "\n",
    "\n",
    "rt_sgx_8 = read_input(\"./data/tmp/udp_latency_rt_SGX_8\");\n",
    "\"\"\"\n",
    "rt_sgx_32 = read_input(\"./data/tmp/udp_latency_rt_SGX_32\");\n",
    "rt_sgx_256 = read_input(\"./data/tmp/udp_latency_rt_SGX_256\");\n",
    "rt_sgx_512 = read_input(\"./data/tmp/udp_latency_rt_SGX_512\");\n",
    "rt_sgx_1024 = read_input(\"./data/tmp/udp_latency_rt_SGX_1024\");\n",
    "\"\"\"\n",
    "\n",
    "\n",
    "rt_hotcall_8 = read_input(\"./data/tmp/udp_latency_rt_HOTCALL_8\");\n",
    "\"\"\"\n",
    "rt_hotcall_32 = read_input(\"./data/tmp/udp_latency_rt_HOTCALL_32\");\n",
    "rt_hotcall_256 = read_input(\"./data/tmp/udp_latency_rt_HOTCALL_256\");\n",
    "rt_hotcall_512 = read_input(\"./data/tmp/udp_latency_rt_HOTCALL_512\");\n",
    "rt_hotcall_1024 = read_input(\"./data/tmp/udp_latency_rt_HOTCALL_1024\");\n",
    "\"\"\"\n",
    "\n",
    "\n",
    "rt_opt_8 = read_input(\"./data/tmp/udp_latency_rt_OPTIMIZED_8\");\n",
    "\"\"\"\n",
    "rt_opt_32 = read_input(\"./data/tmp/udp_latency_rt_OPTIMIZED_32\");\n",
    "rt_opt_256 = read_input(\"./data/tmp/udp_latency_rt_OPTIMIZED_256\");\n",
    "rt_opt_512 = read_input(\"./data/tmp/udp_latency_rt_OPTIMIZED_512\");\n",
    "rt_opt_1024 = read_input(\"./data/tmp/udp_latency_rt_OPTIMIZED_1024\");\n",
    "\"\"\"\n",
    "\n",
    "rt_bundle_8 = read_input(\"./data/tmp/udp_latency_rt_BATCHING_8\");\n",
    "\"\"\"\n",
    "rt_bundle_32 = read_input(\"./data/tmp/udp_latency_rt_BATCHING_32\");\n",
    "rt_bundle_256 = read_input(\"./data/tmp/udp_latency_rt_BATCHING_256\");\n",
    "rt_bundle_512 = read_input(\"./data/tmp/udp_latency_rt_BATCHING_512\");\n",
    "rt_bundle_1024 = read_input(\"./data/tmp/udp_latency_rt_BATCHING_1024\");\n",
    "\"\"\""
   ]
  },
  {
   "cell_type": "code",
   "execution_count": 10,
   "metadata": {},
   "outputs": [
    {
     "data": {
      "text/plain": [
       "299970"
      ]
     },
     "execution_count": 10,
     "metadata": {},
     "output_type": "execute_result"
    }
   ],
   "source": [
    "rt_baseline_8.size"
   ]
  },
  {
   "cell_type": "code",
   "execution_count": 8,
   "metadata": {
    "scrolled": true
   },
   "outputs": [
    {
     "data": {
      "text/plain": [
       "execution_time    0.000253\n",
       "dtype: float64"
      ]
     },
     "execution_count": 8,
     "metadata": {},
     "output_type": "execute_result"
    }
   ],
   "source": [
    "rt_baseline_8.median()"
   ]
  },
  {
   "cell_type": "code",
   "execution_count": 9,
   "metadata": {},
   "outputs": [
    {
     "data": {
      "text/plain": [
       "execution_time    0.000265\n",
       "dtype: float64"
      ]
     },
     "execution_count": 9,
     "metadata": {},
     "output_type": "execute_result"
    }
   ],
   "source": [
    "rt_hotcall_8.median()"
   ]
  },
  {
   "cell_type": "code",
   "execution_count": 11,
   "metadata": {},
   "outputs": [
    {
     "data": {
      "text/plain": [
       "299970"
      ]
     },
     "execution_count": 11,
     "metadata": {},
     "output_type": "execute_result"
    }
   ],
   "source": [
    "rt_hotcall_8.size"
   ]
  },
  {
   "cell_type": "code",
   "execution_count": 12,
   "metadata": {},
   "outputs": [
    {
     "data": {
      "text/plain": [
       "execution_time    0.000264\n",
       "dtype: float64"
      ]
     },
     "execution_count": 12,
     "metadata": {},
     "output_type": "execute_result"
    }
   ],
   "source": [
    "rt_opt_8.median()"
   ]
  },
  {
   "cell_type": "code",
   "execution_count": 13,
   "metadata": {},
   "outputs": [
    {
     "data": {
      "text/plain": [
       "299970"
      ]
     },
     "execution_count": 13,
     "metadata": {},
     "output_type": "execute_result"
    }
   ],
   "source": [
    "rt_opt_8.size"
   ]
  },
  {
   "cell_type": "code",
   "execution_count": 14,
   "metadata": {},
   "outputs": [
    {
     "data": {
      "text/plain": [
       "execution_time    0.000278\n",
       "dtype: float64"
      ]
     },
     "execution_count": 14,
     "metadata": {},
     "output_type": "execute_result"
    }
   ],
   "source": [
    "rt_sgx_8.median()"
   ]
  },
  {
   "cell_type": "code",
   "execution_count": 15,
   "metadata": {},
   "outputs": [
    {
     "data": {
      "text/plain": [
       "execution_time    0.000264\n",
       "dtype: float64"
      ]
     },
     "execution_count": 15,
     "metadata": {},
     "output_type": "execute_result"
    }
   ],
   "source": [
    "rt_bundle_8.median()"
   ]
  },
  {
   "cell_type": "code",
   "execution_count": 53,
   "metadata": {},
   "outputs": [
    {
     "ename": "NameError",
     "evalue": "name 'rt_baseline_8' is not defined",
     "output_type": "error",
     "traceback": [
      "\u001b[0;31m---------------------------------------------------------------------------\u001b[0m",
      "\u001b[0;31mNameError\u001b[0m                                 Traceback (most recent call last)",
      "\u001b[0;32m<ipython-input-53-41f5238a8e56>\u001b[0m in \u001b[0;36m<module>\u001b[0;34m()\u001b[0m\n\u001b[1;32m      1\u001b[0m rts = pd.DataFrame({\n\u001b[0;32m----> 2\u001b[0;31m     \u001b[0;34m\"vanilla\"\u001b[0m\u001b[0;34m:\u001b[0m \u001b[0;34m[\u001b[0m\u001b[0mrt_baseline_8\u001b[0m\u001b[0;34m.\u001b[0m\u001b[0mmedian\u001b[0m\u001b[0;34m(\u001b[0m\u001b[0;34m)\u001b[0m\u001b[0;34m[\u001b[0m\u001b[0;36m0\u001b[0m\u001b[0;34m]\u001b[0m\u001b[0;34m,\u001b[0m \u001b[0mrt_baseline_32\u001b[0m\u001b[0;34m.\u001b[0m\u001b[0mmedian\u001b[0m\u001b[0;34m(\u001b[0m\u001b[0;34m)\u001b[0m\u001b[0;34m[\u001b[0m\u001b[0;36m0\u001b[0m\u001b[0;34m]\u001b[0m\u001b[0;34m,\u001b[0m \u001b[0mrt_baseline_256\u001b[0m\u001b[0;34m.\u001b[0m\u001b[0mmedian\u001b[0m\u001b[0;34m(\u001b[0m\u001b[0;34m)\u001b[0m\u001b[0;34m[\u001b[0m\u001b[0;36m0\u001b[0m\u001b[0;34m]\u001b[0m\u001b[0;34m,\u001b[0m \u001b[0mrt_baseline_512\u001b[0m\u001b[0;34m.\u001b[0m\u001b[0mmedian\u001b[0m\u001b[0;34m(\u001b[0m\u001b[0;34m)\u001b[0m\u001b[0;34m[\u001b[0m\u001b[0;36m0\u001b[0m\u001b[0;34m]\u001b[0m\u001b[0;34m,\u001b[0m \u001b[0mmod_flow_baseline_1024\u001b[0m\u001b[0;34m.\u001b[0m\u001b[0mmedian\u001b[0m\u001b[0;34m(\u001b[0m\u001b[0;34m)\u001b[0m\u001b[0;34m[\u001b[0m\u001b[0;36m0\u001b[0m\u001b[0;34m]\u001b[0m\u001b[0;34m]\u001b[0m\u001b[0;34m,\u001b[0m\u001b[0;34m\u001b[0m\u001b[0m\n\u001b[0m\u001b[1;32m      3\u001b[0m     \u001b[0;34m\"sgx\"\u001b[0m\u001b[0;34m:\u001b[0m \u001b[0;34m[\u001b[0m\u001b[0mmod_flow_sgx_1\u001b[0m\u001b[0;34m.\u001b[0m\u001b[0mmedian\u001b[0m\u001b[0;34m(\u001b[0m\u001b[0;34m)\u001b[0m\u001b[0;34m[\u001b[0m\u001b[0;36m0\u001b[0m\u001b[0;34m]\u001b[0m\u001b[0;34m,\u001b[0m \u001b[0mmod_flow_sgx_2\u001b[0m\u001b[0;34m.\u001b[0m\u001b[0mmedian\u001b[0m\u001b[0;34m(\u001b[0m\u001b[0;34m)\u001b[0m\u001b[0;34m[\u001b[0m\u001b[0;36m0\u001b[0m\u001b[0;34m]\u001b[0m\u001b[0;34m,\u001b[0m \u001b[0mmod_flow_sgx_4\u001b[0m\u001b[0;34m.\u001b[0m\u001b[0mmedian\u001b[0m\u001b[0;34m(\u001b[0m\u001b[0;34m)\u001b[0m\u001b[0;34m[\u001b[0m\u001b[0;36m0\u001b[0m\u001b[0;34m]\u001b[0m\u001b[0;34m,\u001b[0m \u001b[0mmod_flow_sgx_8\u001b[0m\u001b[0;34m.\u001b[0m\u001b[0mmedian\u001b[0m\u001b[0;34m(\u001b[0m\u001b[0;34m)\u001b[0m\u001b[0;34m[\u001b[0m\u001b[0;36m0\u001b[0m\u001b[0;34m]\u001b[0m\u001b[0;34m,\u001b[0m \u001b[0mmod_flow_sgx_16\u001b[0m\u001b[0;34m.\u001b[0m\u001b[0mmedian\u001b[0m\u001b[0;34m(\u001b[0m\u001b[0;34m)\u001b[0m\u001b[0;34m[\u001b[0m\u001b[0;36m0\u001b[0m\u001b[0;34m]\u001b[0m\u001b[0;34m]\u001b[0m\u001b[0;34m,\u001b[0m\u001b[0;34m\u001b[0m\u001b[0m\n\u001b[1;32m      4\u001b[0m     \u001b[0;34m\"hotcall\"\u001b[0m\u001b[0;34m:\u001b[0m \u001b[0;34m[\u001b[0m\u001b[0mmod_flow_hotcall_1\u001b[0m\u001b[0;34m.\u001b[0m\u001b[0mmedian\u001b[0m\u001b[0;34m(\u001b[0m\u001b[0;34m)\u001b[0m\u001b[0;34m[\u001b[0m\u001b[0;36m0\u001b[0m\u001b[0;34m]\u001b[0m\u001b[0;34m,\u001b[0m \u001b[0mmod_flow_hotcall_2\u001b[0m\u001b[0;34m.\u001b[0m\u001b[0mmedian\u001b[0m\u001b[0;34m(\u001b[0m\u001b[0;34m)\u001b[0m\u001b[0;34m[\u001b[0m\u001b[0;36m0\u001b[0m\u001b[0;34m]\u001b[0m\u001b[0;34m,\u001b[0m \u001b[0mmod_flow_hotcall_4\u001b[0m\u001b[0;34m.\u001b[0m\u001b[0mmedian\u001b[0m\u001b[0;34m(\u001b[0m\u001b[0;34m)\u001b[0m\u001b[0;34m[\u001b[0m\u001b[0;36m0\u001b[0m\u001b[0;34m]\u001b[0m\u001b[0;34m,\u001b[0m \u001b[0mmod_flow_hotcall_8\u001b[0m\u001b[0;34m.\u001b[0m\u001b[0mmedian\u001b[0m\u001b[0;34m(\u001b[0m\u001b[0;34m)\u001b[0m\u001b[0;34m[\u001b[0m\u001b[0;36m0\u001b[0m\u001b[0;34m]\u001b[0m\u001b[0;34m,\u001b[0m \u001b[0mmod_flow_hotcall_16\u001b[0m\u001b[0;34m.\u001b[0m\u001b[0mmedian\u001b[0m\u001b[0;34m(\u001b[0m\u001b[0;34m)\u001b[0m\u001b[0;34m[\u001b[0m\u001b[0;36m0\u001b[0m\u001b[0;34m]\u001b[0m\u001b[0;34m]\u001b[0m\u001b[0;34m,\u001b[0m\u001b[0;34m\u001b[0m\u001b[0m\n\u001b[1;32m      5\u001b[0m     \u001b[0;34m\"opt\"\u001b[0m\u001b[0;34m:\u001b[0m \u001b[0;34m[\u001b[0m\u001b[0mmod_flow_optimized_1\u001b[0m\u001b[0;34m.\u001b[0m\u001b[0mmedian\u001b[0m\u001b[0;34m(\u001b[0m\u001b[0;34m)\u001b[0m\u001b[0;34m[\u001b[0m\u001b[0;36m0\u001b[0m\u001b[0;34m]\u001b[0m\u001b[0;34m,\u001b[0m \u001b[0mmod_flow_optimized_2\u001b[0m\u001b[0;34m.\u001b[0m\u001b[0mmedian\u001b[0m\u001b[0;34m(\u001b[0m\u001b[0;34m)\u001b[0m\u001b[0;34m[\u001b[0m\u001b[0;36m0\u001b[0m\u001b[0;34m]\u001b[0m\u001b[0;34m,\u001b[0m \u001b[0mmod_flow_optimized_4\u001b[0m\u001b[0;34m.\u001b[0m\u001b[0mmedian\u001b[0m\u001b[0;34m(\u001b[0m\u001b[0;34m)\u001b[0m\u001b[0;34m[\u001b[0m\u001b[0;36m0\u001b[0m\u001b[0;34m]\u001b[0m\u001b[0;34m,\u001b[0m \u001b[0mmod_flow_optimized_8\u001b[0m\u001b[0;34m.\u001b[0m\u001b[0mmedian\u001b[0m\u001b[0;34m(\u001b[0m\u001b[0;34m)\u001b[0m\u001b[0;34m[\u001b[0m\u001b[0;36m0\u001b[0m\u001b[0;34m]\u001b[0m\u001b[0;34m,\u001b[0m \u001b[0mmod_flow_optimized_16\u001b[0m\u001b[0;34m.\u001b[0m\u001b[0mmedian\u001b[0m\u001b[0;34m(\u001b[0m\u001b[0;34m)\u001b[0m\u001b[0;34m[\u001b[0m\u001b[0;36m0\u001b[0m\u001b[0;34m]\u001b[0m\u001b[0;34m]\u001b[0m\u001b[0;34m,\u001b[0m\u001b[0;34m\u001b[0m\u001b[0m\n",
      "\u001b[0;31mNameError\u001b[0m: name 'rt_baseline_8' is not defined"
     ]
    }
   ],
   "source": [
    "rts = pd.DataFrame({\n",
    "    \"vanilla\": [rt_baseline_8.median()[0], rt_baseline_32.median()[0], rt_baseline_256.median()[0], rt_baseline_512.median()[0], mod_flow_baseline_1024.median()[0]],\n",
    "    \"sgx\": [mod_flow_sgx_1.median()[0], mod_flow_sgx_2.median()[0], mod_flow_sgx_4.median()[0], mod_flow_sgx_8.median()[0], mod_flow_sgx_16.median()[0]],\n",
    "    \"hotcall\": [mod_flow_hotcall_1.median()[0], mod_flow_hotcall_2.median()[0], mod_flow_hotcall_4.median()[0], mod_flow_hotcall_8.median()[0], mod_flow_hotcall_16.median()[0]],\n",
    "    \"opt\": [mod_flow_optimized_1.median()[0], mod_flow_optimized_2.median()[0], mod_flow_optimized_4.median()[0], mod_flow_optimized_8.median()[0], mod_flow_optimized_16.median()[0]],\n",
    "    \"bundle\": [mod_flow_bundle_1.median()[0], mod_flow_bundle_2.median()[0], mod_flow_bundle_4.median()[0], mod_flow_bundle_8.median()[0], mod_flow_bundle_16.median()[0]],\n",
    "    #\"memo\": [mod_flow_memoize_1.median()[0], mod_flow_memoize_2.median()[0], mod_flow_memoize_4.median()[0], mod_flow_memoize_8.median()[0], mod_flow_memoize_16.median()[0]],\n",
    "})"
   ]
  },
  {
   "cell_type": "code",
   "execution_count": 6,
   "metadata": {},
   "outputs": [
    {
     "data": {
      "text/plain": [
       "execution_time    0.00023\n",
       "dtype: float64"
      ]
     },
     "execution_count": 6,
     "metadata": {},
     "output_type": "execute_result"
    }
   ],
   "source": [
    "rt_baseline_8.median()"
   ]
  },
  {
   "cell_type": "code",
   "execution_count": 8,
   "metadata": {},
   "outputs": [
    {
     "data": {
      "text/plain": [
       "<matplotlib.axes._subplots.AxesSubplot at 0x7f75ee156bd0>"
      ]
     },
     "execution_count": 8,
     "metadata": {},
     "output_type": "execute_result"
    },
    {
     "data": {
      "image/png": "[encoded data removed]",
      "text/plain": [
       "<Figure size 432x288 with 1 Axes>"
      ]
     },
     "metadata": {
      "needs_background": "light"
     },
     "output_type": "display_data"
    }
   ],
   "source": [
    "rt_baseline.plot.hist()"
   ]
  },
  {
   "cell_type": "code",
   "execution_count": 9,
   "metadata": {},
   "outputs": [
    {
     "data": {
      "text/plain": [
       "<matplotlib.axes._subplots.AxesSubplot at 0x7f75ee093cd0>"
      ]
     },
     "execution_count": 9,
     "metadata": {},
     "output_type": "execute_result"
    },
    {
     "data": {
      "image/png": "[encoded data removed]",
      "text/plain": [
       "<Figure size 432x288 with 1 Axes>"
      ]
     },
     "metadata": {
      "needs_background": "light"
     },
     "output_type": "display_data"
    }
   ],
   "source": [
    "rt = pd.concat([rt_baseline, rt_sgx, rt_hotcall, rt_optimized, rt_bundle], axis=1, sort=False)\n",
    "rt[['baseline', 'opt', 'bundle', 'hotcall', 'sgx']].mean().plot.bar(\n",
    "          capsize=10, yerr=rt[['baseline', 'opt', 'bundle', 'hotcall', 'sgx']].std().tolist()\n",
    ")"
   ]
  },
  {
   "cell_type": "raw",
   "metadata": {},
   "source": []
  },
  {
   "cell_type": "code",
   "execution_count": 26,
   "metadata": {},
   "outputs": [
    {
     "data": {
      "text/html": [
       "<div>\n",
       "<style scoped>\n",
       "    .dataframe tbody tr th:only-of-type {\n",
       "        vertical-align: middle;\n",
       "    }\n",
       "\n",
       "    .dataframe tbody tr th {\n",
       "        vertical-align: top;\n",
       "    }\n",
       "\n",
       "    .dataframe thead th {\n",
       "        text-align: right;\n",
       "    }\n",
       "</style>\n",
       "<table border=\"1\" class=\"dataframe\">\n",
       "  <thead>\n",
       "    <tr style=\"text-align: right;\">\n",
       "      <th></th>\n",
       "      <th>bundle</th>\n",
       "      <th>hotcall</th>\n",
       "      <th>opt</th>\n",
       "      <th>sgx</th>\n",
       "      <th>vanilla</th>\n",
       "    </tr>\n",
       "  </thead>\n",
       "  <tbody>\n",
       "    <tr>\n",
       "      <th>0</th>\n",
       "      <td>bundle\n",
       "0       0.001012\n",
       "1       0.00...</td>\n",
       "      <td>hotcall\n",
       "0       0.001126\n",
       "1       0.00...</td>\n",
       "      <td>opt\n",
       "0       0.000956\n",
       "1       0.00...</td>\n",
       "      <td>&lt;bound method DataFrame.median of             ...</td>\n",
       "      <td>baseline\n",
       "0       0.001156\n",
       "1       0.00...</td>\n",
       "    </tr>\n",
       "  </tbody>\n",
       "</table>\n",
       "</div>"
      ],
      "text/plain": [
       "                                              bundle  \\\n",
       "0            bundle\n",
       "0       0.001012\n",
       "1       0.00...   \n",
       "\n",
       "                                             hotcall  \\\n",
       "0           hotcall\n",
       "0       0.001126\n",
       "1       0.00...   \n",
       "\n",
       "                                                 opt  \\\n",
       "0               opt\n",
       "0       0.000956\n",
       "1       0.00...   \n",
       "\n",
       "                                                 sgx  \\\n",
       "0  <bound method DataFrame.median of             ...   \n",
       "\n",
       "                                             vanilla  \n",
       "0          baseline\n",
       "0       0.001156\n",
       "1       0.00...  "
      ]
     },
     "execution_count": 26,
     "metadata": {},
     "output_type": "execute_result"
    }
   ],
   "source": [
    "rt = pd.DataFrame({\n",
    "    \"vanilla\": [rt_baseline],\n",
    "    \"sgx\": [rt_sgx.median],\n",
    "    \"hotcall\": [rt_hotcall],\n",
    "    \"opt\": [rt_optimized],\n",
    "    \"bundle\": [rt_bundle]\n",
    "})\n",
    "rt.head()"
   ]
  },
  {
   "cell_type": "code",
   "execution_count": 4,
   "metadata": {},
   "outputs": [
    {
     "data": {
      "text/plain": [
       "299999"
      ]
     },
     "execution_count": 4,
     "metadata": {},
     "output_type": "execute_result"
    }
   ],
   "source": [
    "rt_sgx.size"
   ]
  },
  {
   "cell_type": "code",
   "execution_count": 5,
   "metadata": {},
   "outputs": [
    {
     "data": {
      "text/html": [
       "<div>\n",
       "<style scoped>\n",
       "    .dataframe tbody tr th:only-of-type {\n",
       "        vertical-align: middle;\n",
       "    }\n",
       "\n",
       "    .dataframe tbody tr th {\n",
       "        vertical-align: top;\n",
       "    }\n",
       "\n",
       "    .dataframe thead th {\n",
       "        text-align: right;\n",
       "    }\n",
       "</style>\n",
       "<table border=\"1\" class=\"dataframe\">\n",
       "  <thead>\n",
       "    <tr style=\"text-align: right;\">\n",
       "      <th></th>\n",
       "      <th>0.0010118484497070312</th>\n",
       "    </tr>\n",
       "  </thead>\n",
       "  <tbody>\n",
       "    <tr>\n",
       "      <th>0</th>\n",
       "      <td>0.000400</td>\n",
       "    </tr>\n",
       "    <tr>\n",
       "      <th>1</th>\n",
       "      <td>0.000296</td>\n",
       "    </tr>\n",
       "    <tr>\n",
       "      <th>2</th>\n",
       "      <td>0.000279</td>\n",
       "    </tr>\n",
       "    <tr>\n",
       "      <th>3</th>\n",
       "      <td>0.000275</td>\n",
       "    </tr>\n",
       "    <tr>\n",
       "      <th>4</th>\n",
       "      <td>0.000272</td>\n",
       "    </tr>\n",
       "  </tbody>\n",
       "</table>\n",
       "</div>"
      ],
      "text/plain": [
       "   0.0010118484497070312\n",
       "0               0.000400\n",
       "1               0.000296\n",
       "2               0.000279\n",
       "3               0.000275\n",
       "4               0.000272"
      ]
     },
     "execution_count": 5,
     "metadata": {},
     "output_type": "execute_result"
    }
   ],
   "source": [
    "rt_bundle.head()"
   ]
  },
  {
   "cell_type": "code",
   "execution_count": 6,
   "metadata": {},
   "outputs": [
    {
     "data": {
      "text/html": [
       "<div>\n",
       "<style scoped>\n",
       "    .dataframe tbody tr th:only-of-type {\n",
       "        vertical-align: middle;\n",
       "    }\n",
       "\n",
       "    .dataframe tbody tr th {\n",
       "        vertical-align: top;\n",
       "    }\n",
       "\n",
       "    .dataframe thead th {\n",
       "        text-align: right;\n",
       "    }\n",
       "</style>\n",
       "<table border=\"1\" class=\"dataframe\">\n",
       "  <thead>\n",
       "    <tr style=\"text-align: right;\">\n",
       "      <th></th>\n",
       "      <th>0.0011556148529052734</th>\n",
       "    </tr>\n",
       "  </thead>\n",
       "  <tbody>\n",
       "    <tr>\n",
       "      <th>0</th>\n",
       "      <td>0.000399</td>\n",
       "    </tr>\n",
       "    <tr>\n",
       "      <th>1</th>\n",
       "      <td>0.000490</td>\n",
       "    </tr>\n",
       "    <tr>\n",
       "      <th>2</th>\n",
       "      <td>0.000303</td>\n",
       "    </tr>\n",
       "    <tr>\n",
       "      <th>3</th>\n",
       "      <td>0.000354</td>\n",
       "    </tr>\n",
       "    <tr>\n",
       "      <th>4</th>\n",
       "      <td>0.000257</td>\n",
       "    </tr>\n",
       "  </tbody>\n",
       "</table>\n",
       "</div>"
      ],
      "text/plain": [
       "   0.0011556148529052734\n",
       "0               0.000399\n",
       "1               0.000490\n",
       "2               0.000303\n",
       "3               0.000354\n",
       "4               0.000257"
      ]
     },
     "execution_count": 6,
     "metadata": {},
     "output_type": "execute_result"
    }
   ],
   "source": [
    "rt_baseline.head()"
   ]
  },
  {
   "cell_type": "code",
   "execution_count": 28,
   "metadata": {},
   "outputs": [
    {
     "data": {
      "text/plain": [
       "0.00027418136596679693"
      ]
     },
     "execution_count": 28,
     "metadata": {},
     "output_type": "execute_result"
    }
   ],
   "source": [
    "rt_baseline.median()[0]"
   ]
  },
  {
   "cell_type": "code",
   "execution_count": 29,
   "metadata": {},
   "outputs": [
    {
     "data": {
      "text/plain": [
       "0.0003237724304199219"
      ]
     },
     "execution_count": 29,
     "metadata": {},
     "output_type": "execute_result"
    }
   ],
   "source": [
    "rt_sgx.median()[0]"
   ]
  },
  {
   "cell_type": "code",
   "execution_count": 30,
   "metadata": {},
   "outputs": [
    {
     "data": {
      "text/plain": [
       "0.00027036666870117193"
      ]
     },
     "execution_count": 30,
     "metadata": {},
     "output_type": "execute_result"
    }
   ],
   "source": [
    "rt_hotcall.median()[0]"
   ]
  },
  {
   "cell_type": "code",
   "execution_count": 31,
   "metadata": {},
   "outputs": [
    {
     "data": {
      "text/plain": [
       "0.00026798248291015625"
      ]
     },
     "execution_count": 31,
     "metadata": {},
     "output_type": "execute_result"
    }
   ],
   "source": [
    "rt_optimized.median()[0]"
   ]
  },
  {
   "cell_type": "code",
   "execution_count": 32,
   "metadata": {},
   "outputs": [
    {
     "data": {
      "text/plain": [
       "0.00026941299438476557"
      ]
     },
     "execution_count": 32,
     "metadata": {},
     "output_type": "execute_result"
    }
   ],
   "source": [
    "rt_bundle.median()[0]"
   ]
  },
  {
   "cell_type": "code",
   "execution_count": 16,
   "metadata": {},
   "outputs": [],
   "source": [
    "upcall_baseline = pd.read_csv(\"./data/tmp/udp_latency_BASELINE_8\");\n",
    "upcall_sgx = pd.read_csv(\"./data/tmp/udp_latency_SGX_8\");\n",
    "upcall_hotcall = pd.read_csv(\"./data/tmp/udp_latency_HOTCALL_8\");\n",
    "upcall_optimized = pd.read_csv(\"./data/tmp/udp_latency_OPTIMIZED_8\");\n",
    "upcall_bundle = pd.read_csv(\"./data/tmp/udp_latency_BATCHING_8\");"
   ]
  },
  {
   "cell_type": "code",
   "execution_count": 22,
   "metadata": {},
   "outputs": [
    {
     "data": {
      "text/plain": [
       "609377"
      ]
     },
     "execution_count": 22,
     "metadata": {},
     "output_type": "execute_result"
    }
   ],
   "source": [
    "upcall_baseline.size"
   ]
  },
  {
   "cell_type": "code",
   "execution_count": 17,
   "metadata": {},
   "outputs": [
    {
     "data": {
      "text/plain": [
       "101104    7746.0\n",
       "dtype: float64"
      ]
     },
     "execution_count": 17,
     "metadata": {},
     "output_type": "execute_result"
    }
   ],
   "source": [
    "upcall_baseline.median()"
   ]
  },
  {
   "cell_type": "code",
   "execution_count": 18,
   "metadata": {},
   "outputs": [
    {
     "data": {
      "text/plain": [
       "117958    10254.0\n",
       "dtype: float64"
      ]
     },
     "execution_count": 18,
     "metadata": {},
     "output_type": "execute_result"
    }
   ],
   "source": [
    "upcall_hotcall.median()"
   ]
  },
  {
   "cell_type": "code",
   "execution_count": 24,
   "metadata": {},
   "outputs": [
    {
     "data": {
      "text/plain": [
       "608712"
      ]
     },
     "execution_count": 24,
     "metadata": {},
     "output_type": "execute_result"
    }
   ],
   "source": [
    "upcall_hotcall.size"
   ]
  },
  {
   "cell_type": "code",
   "execution_count": 19,
   "metadata": {},
   "outputs": [
    {
     "data": {
      "text/plain": [
       "121924    11042.0\n",
       "dtype: float64"
      ]
     },
     "execution_count": 19,
     "metadata": {},
     "output_type": "execute_result"
    }
   ],
   "source": [
    "upcall_optimized.median()"
   ]
  },
  {
   "cell_type": "code",
   "execution_count": 25,
   "metadata": {},
   "outputs": [
    {
     "data": {
      "text/plain": [
       "608443"
      ]
     },
     "execution_count": 25,
     "metadata": {},
     "output_type": "execute_result"
    }
   ],
   "source": [
    "upcall_optimized.size"
   ]
  },
  {
   "cell_type": "code",
   "execution_count": 20,
   "metadata": {},
   "outputs": [
    {
     "data": {
      "text/plain": [
       "102912    8696.0\n",
       "dtype: float64"
      ]
     },
     "execution_count": 20,
     "metadata": {},
     "output_type": "execute_result"
    }
   ],
   "source": [
    "upcall_bundle.median()"
   ]
  },
  {
   "cell_type": "code",
   "execution_count": 21,
   "metadata": {},
   "outputs": [
    {
     "data": {
      "text/plain": [
       "149996    32486.0\n",
       "dtype: float64"
      ]
     },
     "execution_count": 21,
     "metadata": {},
     "output_type": "execute_result"
    }
   ],
   "source": [
    "upcall_sgx.median()"
   ]
  },
  {
   "cell_type": "code",
   "execution_count": null,
   "metadata": {},
   "outputs": [],
   "source": []
  },
  {
   "cell_type": "code",
   "execution_count": 4,
   "metadata": {},
   "outputs": [],
   "source": [
    "upcall_baseline = pd.read_csv(\"./data/tmp/udp_latency_multi_rt_BASELINE_8\");\n",
    "upcall_sgx = pd.read_csv(\"./data/tmp/udp_latency_multi_rt_SGX_8\");\n",
    "upcall_hotcall = pd.read_csv(\"./data/tmp/udp_latency_multi_rt_HOTCALL_8\");\n",
    "upcall_optimized = pd.read_csv(\"./data/tmp/udp_latency_multi_rt_OPTIMIZED_8\");\n",
    "upcall_bundle = pd.read_csv(\"./data/tmp/udp_latency_multi_rt_BATCHING_8\");"
   ]
  },
  {
   "cell_type": "code",
   "execution_count": 9,
   "metadata": {},
   "outputs": [
    {
     "data": {
      "text/plain": [
       "0.00024819374084472656    0.00027\n",
       "dtype: float64"
      ]
     },
     "execution_count": 9,
     "metadata": {},
     "output_type": "execute_result"
    }
   ],
   "source": [
    "upcall_baseline.median()"
   ]
  },
  {
   "cell_type": "code",
   "execution_count": 11,
   "metadata": {},
   "outputs": [
    {
     "data": {
      "text/plain": [
       "0.001064300537109375    0.000268\n",
       "dtype: float64"
      ]
     },
     "execution_count": 11,
     "metadata": {},
     "output_type": "execute_result"
    }
   ],
   "source": [
    "upcall_sgx.median()"
   ]
  },
  {
   "cell_type": "code",
   "execution_count": 12,
   "metadata": {},
   "outputs": [
    {
     "data": {
      "text/plain": [
       "0.0002608299255371094    0.000269\n",
       "dtype: float64"
      ]
     },
     "execution_count": 12,
     "metadata": {},
     "output_type": "execute_result"
    }
   ],
   "source": [
    "upcall_hotcall.median()"
   ]
  },
  {
   "cell_type": "code",
   "execution_count": 13,
   "metadata": {},
   "outputs": [
    {
     "data": {
      "text/plain": [
       "0.00025844573974609375    0.000268\n",
       "dtype: float64"
      ]
     },
     "execution_count": 13,
     "metadata": {},
     "output_type": "execute_result"
    }
   ],
   "source": [
    "upcall_optimized.median()"
   ]
  },
  {
   "cell_type": "code",
   "execution_count": 14,
   "metadata": {},
   "outputs": [
    {
     "data": {
      "text/plain": [
       "0.000354766845703125    0.000269\n",
       "dtype: float64"
      ]
     },
     "execution_count": 14,
     "metadata": {},
     "output_type": "execute_result"
    }
   ],
   "source": [
    "upcall_bundle.median()"
   ]
  },
  {
   "cell_type": "code",
   "execution_count": null,
   "metadata": {},
   "outputs": [],
   "source": []
  }
 ],
 "metadata": {
  "kernelspec": {
   "display_name": "Python 2",
   "language": "python",
   "name": "python2"
  },
  "language_info": {
   "codemirror_mode": {
    "name": "ipython",
    "version": 2
   },
   "file_extension": ".py",
   "mimetype": "text/x-python",
   "name": "python",
   "nbconvert_exporter": "python",
   "pygments_lexer": "ipython2",
   "version": "2.7.12"
  }
 },
 "nbformat": 4,
 "nbformat_minor": 2
}
