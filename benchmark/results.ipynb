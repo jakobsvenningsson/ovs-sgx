{
 "cells": [
  {
   "cell_type": "markdown",
   "metadata": {},
   "source": [
    "### OVS-SGX\n",
    "\n",
    "This notebook will be used to display the results of my optimized version of ovs-sgx."
   ]
  },
  {
   "cell_type": "code",
   "execution_count": 1,
   "metadata": {},
   "outputs": [],
   "source": [
    "import pandas as pd\n",
    "import numpy as np\n",
    "import matplotlib.pyplot as plt\n",
    "import seaborn as sns\n",
    "%matplotlib inline  \n",
    "plt.rcParams['figure.figsize'] = (12.0, 6.0)\n",
    "sns.set()"
   ]
  },
  {
   "cell_type": "code",
   "execution_count": 2,
   "metadata": {},
   "outputs": [],
   "source": [
    "DATA_PATH = './data/permanent'"
   ]
  },
  {
   "cell_type": "markdown",
   "metadata": {},
   "source": [
    "## 1. Flow table modifications"
   ]
  },
  {
   "cell_type": "markdown",
   "metadata": {},
   "source": [
    "### 1.1 Add flows"
   ]
  },
  {
   "cell_type": "markdown",
   "metadata": {},
   "source": [
    "#### 1.1.1 Simple flow\n",
    "This benchmark consisted of adding a simple (only a single table flow table had to be consulted) flow to the flow tables."
   ]
  },
  {
   "cell_type": "code",
   "execution_count": 3,
   "metadata": {},
   "outputs": [],
   "source": [
    "add_flow_df = pd.read_csv(DATA_PATH + \"/add_flow.csv\");"
   ]
  },
  {
   "cell_type": "code",
   "execution_count": 4,
   "metadata": {
    "scrolled": true
   },
   "outputs": [
    {
     "data": {
      "text/html": [
       "<div>\n",
       "<style scoped>\n",
       "    .dataframe tbody tr th:only-of-type {\n",
       "        vertical-align: middle;\n",
       "    }\n",
       "\n",
       "    .dataframe tbody tr th {\n",
       "        vertical-align: top;\n",
       "    }\n",
       "\n",
       "    .dataframe thead th {\n",
       "        text-align: right;\n",
       "    }\n",
       "</style>\n",
       "<table border=\"1\" class=\"dataframe\">\n",
       "  <thead>\n",
       "    <tr style=\"text-align: right;\">\n",
       "      <th></th>\n",
       "      <th>BASELINE</th>\n",
       "      <th>SGX</th>\n",
       "      <th>OPTIMIZED</th>\n",
       "      <th>HOTCALL</th>\n",
       "      <th>HOTCALL+OPTIMIZED</th>\n",
       "    </tr>\n",
       "  </thead>\n",
       "  <tbody>\n",
       "    <tr>\n",
       "      <th>count</th>\n",
       "      <td>2.000400e+04</td>\n",
       "      <td>2.000400e+04</td>\n",
       "      <td>2.000400e+04</td>\n",
       "      <td>2.000400e+04</td>\n",
       "      <td>20004.000000</td>\n",
       "    </tr>\n",
       "    <tr>\n",
       "      <th>mean</th>\n",
       "      <td>9.221528e+14</td>\n",
       "      <td>2.766458e+15</td>\n",
       "      <td>9.221528e+14</td>\n",
       "      <td>1.778981e+04</td>\n",
       "      <td>11129.986103</td>\n",
       "    </tr>\n",
       "    <tr>\n",
       "      <th>std</th>\n",
       "      <td>1.304251e+17</td>\n",
       "      <td>2.258917e+17</td>\n",
       "      <td>1.304251e+17</td>\n",
       "      <td>1.136045e+05</td>\n",
       "      <td>7290.864330</td>\n",
       "    </tr>\n",
       "    <tr>\n",
       "      <th>min</th>\n",
       "      <td>1.919000e+03</td>\n",
       "      <td>7.448000e+04</td>\n",
       "      <td>4.160800e+04</td>\n",
       "      <td>6.669000e+03</td>\n",
       "      <td>4257.000000</td>\n",
       "    </tr>\n",
       "    <tr>\n",
       "      <th>25%</th>\n",
       "      <td>4.651000e+03</td>\n",
       "      <td>1.008070e+05</td>\n",
       "      <td>5.467000e+04</td>\n",
       "      <td>1.153600e+04</td>\n",
       "      <td>8783.000000</td>\n",
       "    </tr>\n",
       "    <tr>\n",
       "      <th>50%</th>\n",
       "      <td>5.078500e+03</td>\n",
       "      <td>1.043050e+05</td>\n",
       "      <td>5.790700e+04</td>\n",
       "      <td>1.439700e+04</td>\n",
       "      <td>9920.000000</td>\n",
       "    </tr>\n",
       "    <tr>\n",
       "      <th>75%</th>\n",
       "      <td>6.118000e+03</td>\n",
       "      <td>1.116472e+05</td>\n",
       "      <td>6.422675e+04</td>\n",
       "      <td>1.778050e+04</td>\n",
       "      <td>11807.000000</td>\n",
       "    </tr>\n",
       "    <tr>\n",
       "      <th>max</th>\n",
       "      <td>1.844674e+19</td>\n",
       "      <td>1.844674e+19</td>\n",
       "      <td>1.844674e+19</td>\n",
       "      <td>1.326423e+07</td>\n",
       "      <td>418939.000000</td>\n",
       "    </tr>\n",
       "  </tbody>\n",
       "</table>\n",
       "</div>"
      ],
      "text/plain": [
       "           BASELINE           SGX     OPTIMIZED       HOTCALL  \\\n",
       "count  2.000400e+04  2.000400e+04  2.000400e+04  2.000400e+04   \n",
       "mean   9.221528e+14  2.766458e+15  9.221528e+14  1.778981e+04   \n",
       "std    1.304251e+17  2.258917e+17  1.304251e+17  1.136045e+05   \n",
       "min    1.919000e+03  7.448000e+04  4.160800e+04  6.669000e+03   \n",
       "25%    4.651000e+03  1.008070e+05  5.467000e+04  1.153600e+04   \n",
       "50%    5.078500e+03  1.043050e+05  5.790700e+04  1.439700e+04   \n",
       "75%    6.118000e+03  1.116472e+05  6.422675e+04  1.778050e+04   \n",
       "max    1.844674e+19  1.844674e+19  1.844674e+19  1.326423e+07   \n",
       "\n",
       "       HOTCALL+OPTIMIZED  \n",
       "count       20004.000000  \n",
       "mean        11129.986103  \n",
       "std          7290.864330  \n",
       "min          4257.000000  \n",
       "25%          8783.000000  \n",
       "50%          9920.000000  \n",
       "75%         11807.000000  \n",
       "max        418939.000000  "
      ]
     },
     "execution_count": 4,
     "metadata": {},
     "output_type": "execute_result"
    }
   ],
   "source": [
    "add_flow_df.describe()"
   ]
  },
  {
   "cell_type": "markdown",
   "metadata": {},
   "source": [
    "The above table tells us that there is some very large outliers in the BASELINE and SGX classes. In order for these outliers to not mess up the plots, we will remove them."
   ]
  },
  {
   "cell_type": "code",
   "execution_count": 5,
   "metadata": {},
   "outputs": [],
   "source": [
    "add_flow_df = add_flow_df\\\n",
    "    .mask(add_flow_df > add_flow_df.quantile(0.95), axis=0)"
   ]
  },
  {
   "cell_type": "code",
   "execution_count": 6,
   "metadata": {},
   "outputs": [
    {
     "data": {
      "text/plain": [
       "BASELINE             19003\n",
       "SGX                  19003\n",
       "OPTIMIZED            19003\n",
       "HOTCALL              19003\n",
       "HOTCALL+OPTIMIZED    19003\n",
       "dtype: int64"
      ]
     },
     "execution_count": 6,
     "metadata": {},
     "output_type": "execute_result"
    }
   ],
   "source": [
    "add_flow_df.count()"
   ]
  },
  {
   "cell_type": "markdown",
   "metadata": {},
   "source": [
    "Median execution time for add-flow operaration:"
   ]
  },
  {
   "cell_type": "code",
   "execution_count": 7,
   "metadata": {
    "scrolled": true
   },
   "outputs": [
    {
     "data": {
      "text/plain": [
       "BASELINE               5022.0\n",
       "SGX                  103916.0\n",
       "OPTIMIZED             57446.0\n",
       "HOTCALL               13978.0\n",
       "HOTCALL+OPTIMIZED      9793.0\n",
       "dtype: float64"
      ]
     },
     "execution_count": 7,
     "metadata": {},
     "output_type": "execute_result"
    }
   ],
   "source": [
    "add_flow_df.median()"
   ]
  },
  {
   "cell_type": "code",
   "execution_count": 8,
   "metadata": {
    "scrolled": true
   },
   "outputs": [
    {
     "data": {
      "text/plain": [
       "Text(0, 0.5, 'Time')"
      ]
     },
     "execution_count": 8,
     "metadata": {},
     "output_type": "execute_result"
    },
    {
     "data": {
      "image/png": "[encoded data removed]",
      "text/plain": [
       "<Figure size 432x288 with 1 Axes>"
      ]
     },
     "metadata": {
      "needs_background": "light"
     },
     "output_type": "display_data"
    }
   ],
   "source": [
    "ax = add_flow_df \\\n",
    "    .median() \\\n",
    "    .sort_values(ascending=False) \\\n",
    "    .plot(kind='bar', \n",
    "          title=\"Median add flow execution time in Micro seconds.\", \n",
    "          capsize=10, yerr=add_flow_df.std().tolist())\n",
    "ax.set_xlabel('Median', fontsize=18)\n",
    "ax.set_ylabel('Time', fontsize=18)"
   ]
  },
  {
   "cell_type": "code",
   "execution_count": 9,
   "metadata": {
    "scrolled": true
   },
   "outputs": [
    {
     "data": {
      "text/plain": [
       "Text(0, 0.5, 'Time')"
      ]
     },
     "execution_count": 9,
     "metadata": {},
     "output_type": "execute_result"
    },
    {
     "data": {
      "image/png": "[encoded data removed]",
      "text/plain": [
       "<Figure size 432x288 with 1 Axes>"
      ]
     },
     "metadata": {
      "needs_background": "light"
     },
     "output_type": "display_data"
    }
   ],
   "source": [
    "cols = ['HOTCALL', 'BASELINE', 'HOTCALL+OPTIMIZED']\n",
    "ax = add_flow_df[cols] \\\n",
    "    .median() \\\n",
    "    .sort_values(ascending=False) \\\n",
    "    .plot(kind='bar', \n",
    "          title=\"Median add flow execution time in Micro seconds.\", \n",
    "          capsize=10, yerr=add_flow_df[cols].std().tolist())\n",
    "ax.set_xlabel('Median', fontsize=18)\n",
    "ax.set_ylabel('Time', fontsize=18)"
   ]
  },
  {
   "cell_type": "markdown",
   "metadata": {},
   "source": [
    "We can observe in the above boxplot that there are only outliers in the positive direction. "
   ]
  },
  {
   "cell_type": "markdown",
   "metadata": {},
   "source": [
    "### 1.2 Delete flows"
   ]
  },
  {
   "cell_type": "markdown",
   "metadata": {},
   "source": [
    "### 1.2.1 strict"
   ]
  },
  {
   "cell_type": "code",
   "execution_count": 10,
   "metadata": {},
   "outputs": [],
   "source": [
    "del_flow_strict_df = pd.read_csv(DATA_PATH + \"/del_flow_strict.csv\");"
   ]
  },
  {
   "cell_type": "code",
   "execution_count": 11,
   "metadata": {},
   "outputs": [
    {
     "data": {
      "text/html": [
       "<div>\n",
       "<style scoped>\n",
       "    .dataframe tbody tr th:only-of-type {\n",
       "        vertical-align: middle;\n",
       "    }\n",
       "\n",
       "    .dataframe tbody tr th {\n",
       "        vertical-align: top;\n",
       "    }\n",
       "\n",
       "    .dataframe thead th {\n",
       "        text-align: right;\n",
       "    }\n",
       "</style>\n",
       "<table border=\"1\" class=\"dataframe\">\n",
       "  <thead>\n",
       "    <tr style=\"text-align: right;\">\n",
       "      <th></th>\n",
       "      <th>BASELINE</th>\n",
       "      <th>SGX</th>\n",
       "      <th>OPTIMIZED</th>\n",
       "      <th>HOTCALL</th>\n",
       "      <th>HOTCALL+OPTIMIZED</th>\n",
       "    </tr>\n",
       "  </thead>\n",
       "  <tbody>\n",
       "    <tr>\n",
       "      <th>count</th>\n",
       "      <td>20001.000000</td>\n",
       "      <td>20001.000000</td>\n",
       "      <td>20001.000000</td>\n",
       "      <td>2.000100e+04</td>\n",
       "      <td>2.000100e+04</td>\n",
       "    </tr>\n",
       "    <tr>\n",
       "      <th>mean</th>\n",
       "      <td>39880.136593</td>\n",
       "      <td>34622.453527</td>\n",
       "      <td>36015.799960</td>\n",
       "      <td>1.686245e+04</td>\n",
       "      <td>9.222911e+14</td>\n",
       "    </tr>\n",
       "    <tr>\n",
       "      <th>std</th>\n",
       "      <td>11298.813543</td>\n",
       "      <td>10733.491988</td>\n",
       "      <td>12235.200126</td>\n",
       "      <td>2.981830e+04</td>\n",
       "      <td>1.304349e+17</td>\n",
       "    </tr>\n",
       "    <tr>\n",
       "      <th>min</th>\n",
       "      <td>33057.000000</td>\n",
       "      <td>21955.000000</td>\n",
       "      <td>21450.000000</td>\n",
       "      <td>1.138300e+04</td>\n",
       "      <td>1.104000e+04</td>\n",
       "    </tr>\n",
       "    <tr>\n",
       "      <th>25%</th>\n",
       "      <td>34906.000000</td>\n",
       "      <td>28682.000000</td>\n",
       "      <td>30202.000000</td>\n",
       "      <td>1.405700e+04</td>\n",
       "      <td>1.386100e+04</td>\n",
       "    </tr>\n",
       "    <tr>\n",
       "      <th>50%</th>\n",
       "      <td>36372.000000</td>\n",
       "      <td>32312.000000</td>\n",
       "      <td>32927.000000</td>\n",
       "      <td>1.495500e+04</td>\n",
       "      <td>1.468700e+04</td>\n",
       "    </tr>\n",
       "    <tr>\n",
       "      <th>75%</th>\n",
       "      <td>42052.000000</td>\n",
       "      <td>36897.000000</td>\n",
       "      <td>38414.000000</td>\n",
       "      <td>1.695700e+04</td>\n",
       "      <td>1.641400e+04</td>\n",
       "    </tr>\n",
       "    <tr>\n",
       "      <th>max</th>\n",
       "      <td>265217.000000</td>\n",
       "      <td>265537.000000</td>\n",
       "      <td>401333.000000</td>\n",
       "      <td>3.017522e+06</td>\n",
       "      <td>1.844674e+19</td>\n",
       "    </tr>\n",
       "  </tbody>\n",
       "</table>\n",
       "</div>"
      ],
      "text/plain": [
       "            BASELINE            SGX      OPTIMIZED       HOTCALL  \\\n",
       "count   20001.000000   20001.000000   20001.000000  2.000100e+04   \n",
       "mean    39880.136593   34622.453527   36015.799960  1.686245e+04   \n",
       "std     11298.813543   10733.491988   12235.200126  2.981830e+04   \n",
       "min     33057.000000   21955.000000   21450.000000  1.138300e+04   \n",
       "25%     34906.000000   28682.000000   30202.000000  1.405700e+04   \n",
       "50%     36372.000000   32312.000000   32927.000000  1.495500e+04   \n",
       "75%     42052.000000   36897.000000   38414.000000  1.695700e+04   \n",
       "max    265217.000000  265537.000000  401333.000000  3.017522e+06   \n",
       "\n",
       "       HOTCALL+OPTIMIZED  \n",
       "count       2.000100e+04  \n",
       "mean        9.222911e+14  \n",
       "std         1.304349e+17  \n",
       "min         1.104000e+04  \n",
       "25%         1.386100e+04  \n",
       "50%         1.468700e+04  \n",
       "75%         1.641400e+04  \n",
       "max         1.844674e+19  "
      ]
     },
     "execution_count": 11,
     "metadata": {},
     "output_type": "execute_result"
    }
   ],
   "source": [
    "del_flow_strict_df.describe()"
   ]
  },
  {
   "cell_type": "code",
   "execution_count": 12,
   "metadata": {},
   "outputs": [],
   "source": [
    "del_flow_strict_df = del_flow_strict_df\\\n",
    "    .mask(del_flow_strict_df > del_flow_strict_df.quantile(0.95), axis=0)"
   ]
  },
  {
   "cell_type": "markdown",
   "metadata": {},
   "source": [
    "Median execution time:"
   ]
  },
  {
   "cell_type": "code",
   "execution_count": 13,
   "metadata": {},
   "outputs": [
    {
     "data": {
      "text/html": [
       "<div>\n",
       "<style scoped>\n",
       "    .dataframe tbody tr th:only-of-type {\n",
       "        vertical-align: middle;\n",
       "    }\n",
       "\n",
       "    .dataframe tbody tr th {\n",
       "        vertical-align: top;\n",
       "    }\n",
       "\n",
       "    .dataframe thead th {\n",
       "        text-align: right;\n",
       "    }\n",
       "</style>\n",
       "<table border=\"1\" class=\"dataframe\">\n",
       "  <thead>\n",
       "    <tr style=\"text-align: right;\">\n",
       "      <th></th>\n",
       "      <th>BASELINE</th>\n",
       "      <th>SGX</th>\n",
       "      <th>OPTIMIZED</th>\n",
       "      <th>HOTCALL</th>\n",
       "      <th>HOTCALL+OPTIMIZED</th>\n",
       "    </tr>\n",
       "  </thead>\n",
       "  <tbody>\n",
       "    <tr>\n",
       "      <th>count</th>\n",
       "      <td>19001.000000</td>\n",
       "      <td>19001.000000</td>\n",
       "      <td>19001.000000</td>\n",
       "      <td>19001.000000</td>\n",
       "      <td>19001.000000</td>\n",
       "    </tr>\n",
       "    <tr>\n",
       "      <th>mean</th>\n",
       "      <td>38118.553129</td>\n",
       "      <td>32753.670754</td>\n",
       "      <td>33915.454081</td>\n",
       "      <td>15523.348455</td>\n",
       "      <td>15184.615810</td>\n",
       "    </tr>\n",
       "    <tr>\n",
       "      <th>std</th>\n",
       "      <td>4283.985360</td>\n",
       "      <td>5198.742131</td>\n",
       "      <td>5144.540323</td>\n",
       "      <td>2238.003974</td>\n",
       "      <td>2088.886141</td>\n",
       "    </tr>\n",
       "    <tr>\n",
       "      <th>min</th>\n",
       "      <td>33057.000000</td>\n",
       "      <td>21955.000000</td>\n",
       "      <td>21450.000000</td>\n",
       "      <td>11383.000000</td>\n",
       "      <td>11040.000000</td>\n",
       "    </tr>\n",
       "    <tr>\n",
       "      <th>25%</th>\n",
       "      <td>34836.000000</td>\n",
       "      <td>28524.000000</td>\n",
       "      <td>30044.000000</td>\n",
       "      <td>14009.000000</td>\n",
       "      <td>13817.000000</td>\n",
       "    </tr>\n",
       "    <tr>\n",
       "      <th>50%</th>\n",
       "      <td>36165.000000</td>\n",
       "      <td>31987.000000</td>\n",
       "      <td>32673.000000</td>\n",
       "      <td>14849.000000</td>\n",
       "      <td>14597.000000</td>\n",
       "    </tr>\n",
       "    <tr>\n",
       "      <th>75%</th>\n",
       "      <td>40736.000000</td>\n",
       "      <td>35824.000000</td>\n",
       "      <td>37438.000000</td>\n",
       "      <td>16405.000000</td>\n",
       "      <td>15909.000000</td>\n",
       "    </tr>\n",
       "    <tr>\n",
       "      <th>max</th>\n",
       "      <td>50912.000000</td>\n",
       "      <td>49906.000000</td>\n",
       "      <td>51681.000000</td>\n",
       "      <td>23467.000000</td>\n",
       "      <td>22773.000000</td>\n",
       "    </tr>\n",
       "  </tbody>\n",
       "</table>\n",
       "</div>"
      ],
      "text/plain": [
       "           BASELINE           SGX     OPTIMIZED       HOTCALL  \\\n",
       "count  19001.000000  19001.000000  19001.000000  19001.000000   \n",
       "mean   38118.553129  32753.670754  33915.454081  15523.348455   \n",
       "std     4283.985360   5198.742131   5144.540323   2238.003974   \n",
       "min    33057.000000  21955.000000  21450.000000  11383.000000   \n",
       "25%    34836.000000  28524.000000  30044.000000  14009.000000   \n",
       "50%    36165.000000  31987.000000  32673.000000  14849.000000   \n",
       "75%    40736.000000  35824.000000  37438.000000  16405.000000   \n",
       "max    50912.000000  49906.000000  51681.000000  23467.000000   \n",
       "\n",
       "       HOTCALL+OPTIMIZED  \n",
       "count       19001.000000  \n",
       "mean        15184.615810  \n",
       "std          2088.886141  \n",
       "min         11040.000000  \n",
       "25%         13817.000000  \n",
       "50%         14597.000000  \n",
       "75%         15909.000000  \n",
       "max         22773.000000  "
      ]
     },
     "execution_count": 13,
     "metadata": {},
     "output_type": "execute_result"
    }
   ],
   "source": [
    "del_flow_strict_df.describe()"
   ]
  },
  {
   "cell_type": "code",
   "execution_count": 14,
   "metadata": {
    "scrolled": true
   },
   "outputs": [
    {
     "data": {
      "text/plain": [
       "Text(0, 0.5, 'Time')"
      ]
     },
     "execution_count": 14,
     "metadata": {},
     "output_type": "execute_result"
    },
    {
     "data": {
      "image/png": "[encoded data removed]",
      "text/plain": [
       "<Figure size 432x288 with 1 Axes>"
      ]
     },
     "metadata": {
      "needs_background": "light"
     },
     "output_type": "display_data"
    }
   ],
   "source": [
    "ax = del_flow_strict_df \\\n",
    "    .median() \\\n",
    "    .sort_values(ascending=False) \\\n",
    "    .plot(kind='bar', \n",
    "          title=\"Median delete srict flow execution time in Micro seconds.\", \n",
    "          capsize=10, yerr=del_flow_strict_df.std().tolist())\n",
    "ax.set_xlabel('Median', fontsize=18)\n",
    "ax.set_ylabel('Time', fontsize=18)"
   ]
  },
  {
   "cell_type": "markdown",
   "metadata": {},
   "source": [
    "### 1.2.2 loose"
   ]
  },
  {
   "cell_type": "code",
   "execution_count": 15,
   "metadata": {},
   "outputs": [],
   "source": [
    "del_flow_loose_df = pd.read_csv(DATA_PATH + \"/del_flow_loose.csv\");"
   ]
  },
  {
   "cell_type": "code",
   "execution_count": 16,
   "metadata": {},
   "outputs": [
    {
     "data": {
      "text/html": [
       "<div>\n",
       "<style scoped>\n",
       "    .dataframe tbody tr th:only-of-type {\n",
       "        vertical-align: middle;\n",
       "    }\n",
       "\n",
       "    .dataframe tbody tr th {\n",
       "        vertical-align: top;\n",
       "    }\n",
       "\n",
       "    .dataframe thead th {\n",
       "        text-align: right;\n",
       "    }\n",
       "</style>\n",
       "<table border=\"1\" class=\"dataframe\">\n",
       "  <thead>\n",
       "    <tr style=\"text-align: right;\">\n",
       "      <th></th>\n",
       "      <th>BASELINE</th>\n",
       "      <th>SGX</th>\n",
       "      <th>OPTIMIZED</th>\n",
       "      <th>HOTCALL</th>\n",
       "      <th>HOTCALL+OPTIMIZED</th>\n",
       "    </tr>\n",
       "  </thead>\n",
       "  <tbody>\n",
       "    <tr>\n",
       "      <th>count</th>\n",
       "      <td>20001.000000</td>\n",
       "      <td>2.000100e+04</td>\n",
       "      <td>20001.000000</td>\n",
       "      <td>2.000100e+04</td>\n",
       "      <td>20001.000000</td>\n",
       "    </tr>\n",
       "    <tr>\n",
       "      <th>mean</th>\n",
       "      <td>19547.822009</td>\n",
       "      <td>9.222911e+14</td>\n",
       "      <td>97113.904205</td>\n",
       "      <td>9.222911e+14</td>\n",
       "      <td>21459.793710</td>\n",
       "    </tr>\n",
       "    <tr>\n",
       "      <th>std</th>\n",
       "      <td>6996.363775</td>\n",
       "      <td>1.304349e+17</td>\n",
       "      <td>23436.476721</td>\n",
       "      <td>1.304349e+17</td>\n",
       "      <td>7914.592582</td>\n",
       "    </tr>\n",
       "    <tr>\n",
       "      <th>min</th>\n",
       "      <td>13863.000000</td>\n",
       "      <td>9.595700e+04</td>\n",
       "      <td>77407.000000</td>\n",
       "      <td>1.859500e+04</td>\n",
       "      <td>14445.000000</td>\n",
       "    </tr>\n",
       "    <tr>\n",
       "      <th>25%</th>\n",
       "      <td>16054.000000</td>\n",
       "      <td>1.065170e+05</td>\n",
       "      <td>86212.000000</td>\n",
       "      <td>2.388700e+04</td>\n",
       "      <td>18214.000000</td>\n",
       "    </tr>\n",
       "    <tr>\n",
       "      <th>50%</th>\n",
       "      <td>17457.000000</td>\n",
       "      <td>1.128790e+05</td>\n",
       "      <td>90390.000000</td>\n",
       "      <td>2.520600e+04</td>\n",
       "      <td>19470.000000</td>\n",
       "    </tr>\n",
       "    <tr>\n",
       "      <th>75%</th>\n",
       "      <td>20713.000000</td>\n",
       "      <td>1.249260e+05</td>\n",
       "      <td>98701.000000</td>\n",
       "      <td>2.799100e+04</td>\n",
       "      <td>22333.000000</td>\n",
       "    </tr>\n",
       "    <tr>\n",
       "      <th>max</th>\n",
       "      <td>136965.000000</td>\n",
       "      <td>1.844674e+19</td>\n",
       "      <td>486875.000000</td>\n",
       "      <td>1.844674e+19</td>\n",
       "      <td>209060.000000</td>\n",
       "    </tr>\n",
       "  </tbody>\n",
       "</table>\n",
       "</div>"
      ],
      "text/plain": [
       "            BASELINE           SGX      OPTIMIZED       HOTCALL  \\\n",
       "count   20001.000000  2.000100e+04   20001.000000  2.000100e+04   \n",
       "mean    19547.822009  9.222911e+14   97113.904205  9.222911e+14   \n",
       "std      6996.363775  1.304349e+17   23436.476721  1.304349e+17   \n",
       "min     13863.000000  9.595700e+04   77407.000000  1.859500e+04   \n",
       "25%     16054.000000  1.065170e+05   86212.000000  2.388700e+04   \n",
       "50%     17457.000000  1.128790e+05   90390.000000  2.520600e+04   \n",
       "75%     20713.000000  1.249260e+05   98701.000000  2.799100e+04   \n",
       "max    136965.000000  1.844674e+19  486875.000000  1.844674e+19   \n",
       "\n",
       "       HOTCALL+OPTIMIZED  \n",
       "count       20001.000000  \n",
       "mean        21459.793710  \n",
       "std          7914.592582  \n",
       "min         14445.000000  \n",
       "25%         18214.000000  \n",
       "50%         19470.000000  \n",
       "75%         22333.000000  \n",
       "max        209060.000000  "
      ]
     },
     "execution_count": 16,
     "metadata": {},
     "output_type": "execute_result"
    }
   ],
   "source": [
    "del_flow_loose_df.describe()"
   ]
  },
  {
   "cell_type": "code",
   "execution_count": 17,
   "metadata": {},
   "outputs": [],
   "source": [
    "del_flow_loose_df = del_flow_loose_df\\\n",
    "    .mask(del_flow_loose_df > del_flow_loose_df.quantile(0.99), axis=0)"
   ]
  },
  {
   "cell_type": "code",
   "execution_count": 18,
   "metadata": {},
   "outputs": [
    {
     "data": {
      "text/plain": [
       "Text(0, 0.5, 'Time')"
      ]
     },
     "execution_count": 18,
     "metadata": {},
     "output_type": "execute_result"
    },
    {
     "data": {
      "image/png": "[encoded data removed]",
      "text/plain": [
       "<Figure size 432x288 with 1 Axes>"
      ]
     },
     "metadata": {
      "needs_background": "light"
     },
     "output_type": "display_data"
    }
   ],
   "source": [
    "ax = del_flow_loose_df \\\n",
    "    .median() \\\n",
    "    .sort_values(ascending=False) \\\n",
    "    .plot(kind='bar', \n",
    "          title=\"Median delete loose flow execution time in Micro seconds.\", \n",
    "          capsize=10, yerr=del_flow_loose_df.std().tolist())\n",
    "ax.set_xlabel('Median', fontsize=18)\n",
    "ax.set_ylabel('Time', fontsize=18)"
   ]
  },
  {
   "cell_type": "markdown",
   "metadata": {},
   "source": [
    "## 1.3 Modify flows"
   ]
  },
  {
   "cell_type": "markdown",
   "metadata": {},
   "source": [
    "### 1.3.1 strict"
   ]
  },
  {
   "cell_type": "code",
   "execution_count": 75,
   "metadata": {},
   "outputs": [],
   "source": [
    "mod_flow_srict_df = pd.read_csv(DATA_PATH + \"/mod_flow_strict.csv\");"
   ]
  },
  {
   "cell_type": "code",
   "execution_count": 76,
   "metadata": {
    "scrolled": true
   },
   "outputs": [
    {
     "data": {
      "text/html": [
       "<div>\n",
       "<style scoped>\n",
       "    .dataframe tbody tr th:only-of-type {\n",
       "        vertical-align: middle;\n",
       "    }\n",
       "\n",
       "    .dataframe tbody tr th {\n",
       "        vertical-align: top;\n",
       "    }\n",
       "\n",
       "    .dataframe thead th {\n",
       "        text-align: right;\n",
       "    }\n",
       "</style>\n",
       "<table border=\"1\" class=\"dataframe\">\n",
       "  <thead>\n",
       "    <tr style=\"text-align: right;\">\n",
       "      <th></th>\n",
       "      <th>BASELINE</th>\n",
       "      <th>SGX</th>\n",
       "      <th>OPTIMIZED</th>\n",
       "      <th>HOTCALL</th>\n",
       "      <th>HOTCALL+OPTIMIZED</th>\n",
       "    </tr>\n",
       "  </thead>\n",
       "  <tbody>\n",
       "    <tr>\n",
       "      <th>count</th>\n",
       "      <td>5001.000000</td>\n",
       "      <td>5001.000000</td>\n",
       "      <td>5.001000e+03</td>\n",
       "      <td>5.001000e+03</td>\n",
       "      <td>5001.000000</td>\n",
       "    </tr>\n",
       "    <tr>\n",
       "      <th>mean</th>\n",
       "      <td>7477.075785</td>\n",
       "      <td>76731.282543</td>\n",
       "      <td>7.377222e+15</td>\n",
       "      <td>3.688611e+15</td>\n",
       "      <td>11359.709258</td>\n",
       "    </tr>\n",
       "    <tr>\n",
       "      <th>std</th>\n",
       "      <td>3928.873369</td>\n",
       "      <td>15325.254794</td>\n",
       "      <td>3.688611e+17</td>\n",
       "      <td>2.608503e+17</td>\n",
       "      <td>8538.137094</td>\n",
       "    </tr>\n",
       "    <tr>\n",
       "      <th>min</th>\n",
       "      <td>4019.000000</td>\n",
       "      <td>57923.000000</td>\n",
       "      <td>4.272600e+04</td>\n",
       "      <td>7.070000e+03</td>\n",
       "      <td>5672.000000</td>\n",
       "    </tr>\n",
       "    <tr>\n",
       "      <th>25%</th>\n",
       "      <td>6075.000000</td>\n",
       "      <td>68744.000000</td>\n",
       "      <td>5.203800e+04</td>\n",
       "      <td>1.013400e+04</td>\n",
       "      <td>9097.000000</td>\n",
       "    </tr>\n",
       "    <tr>\n",
       "      <th>50%</th>\n",
       "      <td>6841.000000</td>\n",
       "      <td>73302.000000</td>\n",
       "      <td>5.564500e+04</td>\n",
       "      <td>1.152600e+04</td>\n",
       "      <td>10520.000000</td>\n",
       "    </tr>\n",
       "    <tr>\n",
       "      <th>75%</th>\n",
       "      <td>8158.000000</td>\n",
       "      <td>82001.000000</td>\n",
       "      <td>6.229200e+04</td>\n",
       "      <td>1.264300e+04</td>\n",
       "      <td>11557.000000</td>\n",
       "    </tr>\n",
       "    <tr>\n",
       "      <th>max</th>\n",
       "      <td>190184.000000</td>\n",
       "      <td>430334.000000</td>\n",
       "      <td>1.844674e+19</td>\n",
       "      <td>1.844674e+19</td>\n",
       "      <td>423194.000000</td>\n",
       "    </tr>\n",
       "  </tbody>\n",
       "</table>\n",
       "</div>"
      ],
      "text/plain": [
       "            BASELINE            SGX     OPTIMIZED       HOTCALL  \\\n",
       "count    5001.000000    5001.000000  5.001000e+03  5.001000e+03   \n",
       "mean     7477.075785   76731.282543  7.377222e+15  3.688611e+15   \n",
       "std      3928.873369   15325.254794  3.688611e+17  2.608503e+17   \n",
       "min      4019.000000   57923.000000  4.272600e+04  7.070000e+03   \n",
       "25%      6075.000000   68744.000000  5.203800e+04  1.013400e+04   \n",
       "50%      6841.000000   73302.000000  5.564500e+04  1.152600e+04   \n",
       "75%      8158.000000   82001.000000  6.229200e+04  1.264300e+04   \n",
       "max    190184.000000  430334.000000  1.844674e+19  1.844674e+19   \n",
       "\n",
       "       HOTCALL+OPTIMIZED  \n",
       "count        5001.000000  \n",
       "mean        11359.709258  \n",
       "std          8538.137094  \n",
       "min          5672.000000  \n",
       "25%          9097.000000  \n",
       "50%         10520.000000  \n",
       "75%         11557.000000  \n",
       "max        423194.000000  "
      ]
     },
     "execution_count": 76,
     "metadata": {},
     "output_type": "execute_result"
    }
   ],
   "source": [
    "mod_flow_srict_df.describe()"
   ]
  },
  {
   "cell_type": "code",
   "execution_count": 77,
   "metadata": {},
   "outputs": [
    {
     "data": {
      "text/plain": [
       "BASELINE              6841.0\n",
       "SGX                  73302.0\n",
       "OPTIMIZED            55645.0\n",
       "HOTCALL              11526.0\n",
       "HOTCALL+OPTIMIZED    10520.0\n",
       "dtype: float64"
      ]
     },
     "execution_count": 77,
     "metadata": {},
     "output_type": "execute_result"
    }
   ],
   "source": [
    "mod_flow_srict_df.median()"
   ]
  },
  {
   "cell_type": "code",
   "execution_count": 78,
   "metadata": {},
   "outputs": [],
   "source": [
    "#mod_flow_srict_df = mod_flow_srict_df\\\n",
    "#    .mask(mod_flow_srict_df > mod_flow_srict_df.quantile(0.95), axis=0)"
   ]
  },
  {
   "cell_type": "code",
   "execution_count": 79,
   "metadata": {},
   "outputs": [
    {
     "data": {
      "text/plain": [
       "Text(0, 0.5, 'Time')"
      ]
     },
     "execution_count": 79,
     "metadata": {},
     "output_type": "execute_result"
    },
    {
     "data": {
      "image/png": "[encoded data removed]",
      "text/plain": [
       "<Figure size 432x288 with 1 Axes>"
      ]
     },
     "metadata": {
      "needs_background": "light"
     },
     "output_type": "display_data"
    }
   ],
   "source": [
    "ax = mod_flow_srict_df \\\n",
    "    .median() \\\n",
    "    .sort_values(ascending=False) \\\n",
    "    .plot(kind='bar', \n",
    "          title=\"Median mod flow strict execution time in Micro seconds.\")\n",
    "ax.set_xlabel('Median', fontsize=18)\n",
    "ax.set_ylabel('Time', fontsize=18)"
   ]
  },
  {
   "cell_type": "markdown",
   "metadata": {},
   "source": [
    "### 1.3.2 loose"
   ]
  },
  {
   "cell_type": "code",
   "execution_count": 35,
   "metadata": {},
   "outputs": [],
   "source": [
    "mod_flow_loose_df = pd.read_csv(DATA_PATH + \"/mod_flow_loose.csv\");"
   ]
  },
  {
   "cell_type": "code",
   "execution_count": 36,
   "metadata": {},
   "outputs": [
    {
     "data": {
      "text/html": [
       "<div>\n",
       "<style scoped>\n",
       "    .dataframe tbody tr th:only-of-type {\n",
       "        vertical-align: middle;\n",
       "    }\n",
       "\n",
       "    .dataframe tbody tr th {\n",
       "        vertical-align: top;\n",
       "    }\n",
       "\n",
       "    .dataframe thead th {\n",
       "        text-align: right;\n",
       "    }\n",
       "</style>\n",
       "<table border=\"1\" class=\"dataframe\">\n",
       "  <thead>\n",
       "    <tr style=\"text-align: right;\">\n",
       "      <th></th>\n",
       "      <th>BASELINE</th>\n",
       "      <th>SGX</th>\n",
       "      <th>OPTIMIZED</th>\n",
       "      <th>HOTCALL</th>\n",
       "      <th>HOTCALL+OPTIMIZED</th>\n",
       "    </tr>\n",
       "  </thead>\n",
       "  <tbody>\n",
       "    <tr>\n",
       "      <th>count</th>\n",
       "      <td>20001.000000</td>\n",
       "      <td>2.000100e+04</td>\n",
       "      <td>2.000100e+04</td>\n",
       "      <td>2.000100e+04</td>\n",
       "      <td>2.000100e+04</td>\n",
       "    </tr>\n",
       "    <tr>\n",
       "      <th>mean</th>\n",
       "      <td>17435.293635</td>\n",
       "      <td>2.766873e+15</td>\n",
       "      <td>9.222911e+14</td>\n",
       "      <td>1.844582e+15</td>\n",
       "      <td>1.793267e+04</td>\n",
       "    </tr>\n",
       "    <tr>\n",
       "      <th>std</th>\n",
       "      <td>4634.230043</td>\n",
       "      <td>2.259086e+17</td>\n",
       "      <td>1.304349e+17</td>\n",
       "      <td>1.844582e+17</td>\n",
       "      <td>1.557761e+04</td>\n",
       "    </tr>\n",
       "    <tr>\n",
       "      <th>min</th>\n",
       "      <td>12968.000000</td>\n",
       "      <td>6.517300e+04</td>\n",
       "      <td>4.703600e+04</td>\n",
       "      <td>1.714200e+04</td>\n",
       "      <td>1.157800e+04</td>\n",
       "    </tr>\n",
       "    <tr>\n",
       "      <th>25%</th>\n",
       "      <td>15229.000000</td>\n",
       "      <td>7.355900e+04</td>\n",
       "      <td>5.591700e+04</td>\n",
       "      <td>2.021000e+04</td>\n",
       "      <td>1.430400e+04</td>\n",
       "    </tr>\n",
       "    <tr>\n",
       "      <th>50%</th>\n",
       "      <td>15917.000000</td>\n",
       "      <td>7.631900e+04</td>\n",
       "      <td>5.845300e+04</td>\n",
       "      <td>2.176000e+04</td>\n",
       "      <td>1.598300e+04</td>\n",
       "    </tr>\n",
       "    <tr>\n",
       "      <th>75%</th>\n",
       "      <td>18691.000000</td>\n",
       "      <td>8.207100e+04</td>\n",
       "      <td>6.342400e+04</td>\n",
       "      <td>2.398900e+04</td>\n",
       "      <td>1.842800e+04</td>\n",
       "    </tr>\n",
       "    <tr>\n",
       "      <th>max</th>\n",
       "      <td>114085.000000</td>\n",
       "      <td>1.844674e+19</td>\n",
       "      <td>1.844674e+19</td>\n",
       "      <td>1.844674e+19</td>\n",
       "      <td>1.641541e+06</td>\n",
       "    </tr>\n",
       "  </tbody>\n",
       "</table>\n",
       "</div>"
      ],
      "text/plain": [
       "            BASELINE           SGX     OPTIMIZED       HOTCALL  \\\n",
       "count   20001.000000  2.000100e+04  2.000100e+04  2.000100e+04   \n",
       "mean    17435.293635  2.766873e+15  9.222911e+14  1.844582e+15   \n",
       "std      4634.230043  2.259086e+17  1.304349e+17  1.844582e+17   \n",
       "min     12968.000000  6.517300e+04  4.703600e+04  1.714200e+04   \n",
       "25%     15229.000000  7.355900e+04  5.591700e+04  2.021000e+04   \n",
       "50%     15917.000000  7.631900e+04  5.845300e+04  2.176000e+04   \n",
       "75%     18691.000000  8.207100e+04  6.342400e+04  2.398900e+04   \n",
       "max    114085.000000  1.844674e+19  1.844674e+19  1.844674e+19   \n",
       "\n",
       "       HOTCALL+OPTIMIZED  \n",
       "count       2.000100e+04  \n",
       "mean        1.793267e+04  \n",
       "std         1.557761e+04  \n",
       "min         1.157800e+04  \n",
       "25%         1.430400e+04  \n",
       "50%         1.598300e+04  \n",
       "75%         1.842800e+04  \n",
       "max         1.641541e+06  "
      ]
     },
     "execution_count": 36,
     "metadata": {},
     "output_type": "execute_result"
    }
   ],
   "source": [
    "mod_flow_loose_df.describe()"
   ]
  },
  {
   "cell_type": "code",
   "execution_count": 37,
   "metadata": {},
   "outputs": [],
   "source": [
    "mod_flow_loose_df = mod_flow_loose_df\\\n",
    "    .mask(mod_flow_loose_df > mod_flow_loose_df.quantile(0.95), axis=0)"
   ]
  },
  {
   "cell_type": "code",
   "execution_count": 38,
   "metadata": {},
   "outputs": [
    {
     "data": {
      "text/plain": [
       "Text(0, 0.5, 'Time')"
      ]
     },
     "execution_count": 38,
     "metadata": {},
     "output_type": "execute_result"
    },
    {
     "data": {
      "image/png": "[encoded data removed]",
      "text/plain": [
       "<Figure size 432x288 with 1 Axes>"
      ]
     },
     "metadata": {
      "needs_background": "light"
     },
     "output_type": "display_data"
    }
   ],
   "source": [
    "ax = mod_flow_loose_df \\\n",
    "    .median() \\\n",
    "    .sort_values(ascending=False) \\\n",
    "    .plot(kind='bar', \n",
    "          title=\"Median mod flow loose execution time in Micro seconds.\", \n",
    "          capsize=10, yerr=add_flow_df.std().tolist())\n",
    "ax.set_xlabel('Median', fontsize=18)\n",
    "ax.set_ylabel('Time', fontsize=18)"
   ]
  },
  {
   "cell_type": "markdown",
   "metadata": {},
   "source": [
    "# 2 Flow eviction"
   ]
  },
  {
   "cell_type": "code",
   "execution_count": null,
   "metadata": {},
   "outputs": [],
   "source": []
  }
 ],
 "metadata": {
  "kernelspec": {
   "display_name": "Python 3",
   "language": "python",
   "name": "python3"
  },
  "language_info": {
   "codemirror_mode": {
    "name": "ipython",
    "version": 3
   },
   "file_extension": ".py",
   "mimetype": "text/x-python",
   "name": "python",
   "nbconvert_exporter": "python",
   "pygments_lexer": "ipython3",
   "version": "3.5.2"
  }
 },
 "nbformat": 4,
 "nbformat_minor": 2
}
