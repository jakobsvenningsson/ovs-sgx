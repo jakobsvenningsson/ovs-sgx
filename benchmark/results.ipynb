{
 "cells": [
  {
   "cell_type": "markdown",
   "metadata": {},
   "source": [
    "### OVS-SGX\n",
    "\n",
    "This notebook will be used to display the results of my optimized version of ovs-sgx."
   ]
  },
  {
   "cell_type": "code",
   "execution_count": 1,
   "metadata": {},
   "outputs": [],
   "source": [
    "import pandas as pd\n",
    "import numpy as np\n",
    "import matplotlib.pyplot as plt\n",
    "import seaborn as sns\n",
    "%matplotlib inline  \n",
    "plt.rcParams['figure.figsize'] = (12.0, 6.0)\n",
    "sns.set()"
   ]
  },
  {
   "cell_type": "code",
   "execution_count": 2,
   "metadata": {},
   "outputs": [],
   "source": [
    "DATA_PATH = './data/permanent'"
   ]
  },
  {
   "cell_type": "markdown",
   "metadata": {},
   "source": [
    "## Table of content:\n",
    "* [Flow table](#1)\n",
    "    * [Add flow](#1.1)\n",
    "        * [Simple flow](#1.1.1)\n",
    "    * [Delete flow](#1.2)\n",
    "        * [Strict](#1.2.1)\n",
    "        * [Loose](#1.2.2)\n",
    "    * [Modify flow](#1.3)\n",
    "        * [Strict](#1.3.1)\n",
    "        * [Loose](#1.3.2)\n",
    "    * [Flow eviction](#1.4)\n",
    "        * [Batch](#1.4.1)\n",
    "        * [Single](#1.4.2)\n",
    "* [Stats Request](#2)\n",
    "    * [Dump flows](#2.1)\n",
    "* [Upcall (WORK IN PROGRESS)](#3) \n",
    "    * [Flow miss](#3.1)\n",
    "        * [With SDN controller intervention](#3.1.1)\n",
    "        * [Without SDN controller intervention](#3.1.2)"
   ]
  },
  {
   "cell_type": "markdown",
   "metadata": {},
   "source": [
    "# 1. Flow table <a class=\"anchor\" id=\"1\"></a>"
   ]
  },
  {
   "cell_type": "markdown",
   "metadata": {},
   "source": [
    "## 1.1 Add flows <a class=\"anchor\" id=\"1.1\"></a>"
   ]
  },
  {
   "cell_type": "markdown",
   "metadata": {},
   "source": [
    "#### 1.1.1 Simple flow <a class=\"anchor\" id=\"1.1.1\"></a>\n",
    "This benchmark consisted of adding a simple (only a single table flow table had to be consulted) flow to the flow tables."
   ]
  },
  {
   "cell_type": "code",
   "execution_count": 69,
   "metadata": {},
   "outputs": [],
   "source": [
    "add_flow_df = pd.read_csv(DATA_PATH + \"/add_flow.csv\");"
   ]
  },
  {
   "cell_type": "code",
   "execution_count": 70,
   "metadata": {
    "scrolled": true
   },
   "outputs": [
    {
     "data": {
      "text/html": [
       "<div>\n",
       "<style scoped>\n",
       "    .dataframe tbody tr th:only-of-type {\n",
       "        vertical-align: middle;\n",
       "    }\n",
       "\n",
       "    .dataframe tbody tr th {\n",
       "        vertical-align: top;\n",
       "    }\n",
       "\n",
       "    .dataframe thead th {\n",
       "        text-align: right;\n",
       "    }\n",
       "</style>\n",
       "<table border=\"1\" class=\"dataframe\">\n",
       "  <thead>\n",
       "    <tr style=\"text-align: right;\">\n",
       "      <th></th>\n",
       "      <th>BASELINE</th>\n",
       "      <th>SGX</th>\n",
       "      <th>OPTIMIZED</th>\n",
       "      <th>HOTCALL</th>\n",
       "      <th>HOTCALL+OPTIMIZED</th>\n",
       "    </tr>\n",
       "  </thead>\n",
       "  <tbody>\n",
       "    <tr>\n",
       "      <th>count</th>\n",
       "      <td>2.000400e+04</td>\n",
       "      <td>2.000400e+04</td>\n",
       "      <td>2.000400e+04</td>\n",
       "      <td>2.000400e+04</td>\n",
       "      <td>20004.000000</td>\n",
       "    </tr>\n",
       "    <tr>\n",
       "      <th>mean</th>\n",
       "      <td>9.221528e+14</td>\n",
       "      <td>2.766458e+15</td>\n",
       "      <td>9.221528e+14</td>\n",
       "      <td>1.778981e+04</td>\n",
       "      <td>11129.986103</td>\n",
       "    </tr>\n",
       "    <tr>\n",
       "      <th>std</th>\n",
       "      <td>1.304251e+17</td>\n",
       "      <td>2.258917e+17</td>\n",
       "      <td>1.304251e+17</td>\n",
       "      <td>1.136045e+05</td>\n",
       "      <td>7290.864330</td>\n",
       "    </tr>\n",
       "    <tr>\n",
       "      <th>min</th>\n",
       "      <td>1.919000e+03</td>\n",
       "      <td>7.448000e+04</td>\n",
       "      <td>4.160800e+04</td>\n",
       "      <td>6.669000e+03</td>\n",
       "      <td>4257.000000</td>\n",
       "    </tr>\n",
       "    <tr>\n",
       "      <th>25%</th>\n",
       "      <td>4.651000e+03</td>\n",
       "      <td>1.008070e+05</td>\n",
       "      <td>5.467000e+04</td>\n",
       "      <td>1.153600e+04</td>\n",
       "      <td>8783.000000</td>\n",
       "    </tr>\n",
       "    <tr>\n",
       "      <th>50%</th>\n",
       "      <td>5.078500e+03</td>\n",
       "      <td>1.043050e+05</td>\n",
       "      <td>5.790700e+04</td>\n",
       "      <td>1.439700e+04</td>\n",
       "      <td>9920.000000</td>\n",
       "    </tr>\n",
       "    <tr>\n",
       "      <th>75%</th>\n",
       "      <td>6.118000e+03</td>\n",
       "      <td>1.116472e+05</td>\n",
       "      <td>6.422675e+04</td>\n",
       "      <td>1.778050e+04</td>\n",
       "      <td>11807.000000</td>\n",
       "    </tr>\n",
       "    <tr>\n",
       "      <th>max</th>\n",
       "      <td>1.844674e+19</td>\n",
       "      <td>1.844674e+19</td>\n",
       "      <td>1.844674e+19</td>\n",
       "      <td>1.326423e+07</td>\n",
       "      <td>418939.000000</td>\n",
       "    </tr>\n",
       "  </tbody>\n",
       "</table>\n",
       "</div>"
      ],
      "text/plain": [
       "           BASELINE           SGX     OPTIMIZED       HOTCALL  \\\n",
       "count  2.000400e+04  2.000400e+04  2.000400e+04  2.000400e+04   \n",
       "mean   9.221528e+14  2.766458e+15  9.221528e+14  1.778981e+04   \n",
       "std    1.304251e+17  2.258917e+17  1.304251e+17  1.136045e+05   \n",
       "min    1.919000e+03  7.448000e+04  4.160800e+04  6.669000e+03   \n",
       "25%    4.651000e+03  1.008070e+05  5.467000e+04  1.153600e+04   \n",
       "50%    5.078500e+03  1.043050e+05  5.790700e+04  1.439700e+04   \n",
       "75%    6.118000e+03  1.116472e+05  6.422675e+04  1.778050e+04   \n",
       "max    1.844674e+19  1.844674e+19  1.844674e+19  1.326423e+07   \n",
       "\n",
       "       HOTCALL+OPTIMIZED  \n",
       "count       20004.000000  \n",
       "mean        11129.986103  \n",
       "std          7290.864330  \n",
       "min          4257.000000  \n",
       "25%          8783.000000  \n",
       "50%          9920.000000  \n",
       "75%         11807.000000  \n",
       "max        418939.000000  "
      ]
     },
     "execution_count": 70,
     "metadata": {},
     "output_type": "execute_result"
    }
   ],
   "source": [
    "add_flow_df.describe()"
   ]
  },
  {
   "cell_type": "markdown",
   "metadata": {},
   "source": [
    "The above table tells us that there is some very large outliers in the BASELINE and SGX classes. In order for these outliers to not mess up the plots, we will remove them."
   ]
  },
  {
   "cell_type": "code",
   "execution_count": 71,
   "metadata": {},
   "outputs": [],
   "source": [
    "add_flow_df = add_flow_df\\\n",
    "    .mask(add_flow_df > add_flow_df.quantile(0.95), axis=0)"
   ]
  },
  {
   "cell_type": "code",
   "execution_count": 72,
   "metadata": {},
   "outputs": [
    {
     "data": {
      "text/plain": [
       "BASELINE             19003\n",
       "SGX                  19003\n",
       "OPTIMIZED            19003\n",
       "HOTCALL              19003\n",
       "HOTCALL+OPTIMIZED    19003\n",
       "dtype: int64"
      ]
     },
     "execution_count": 72,
     "metadata": {},
     "output_type": "execute_result"
    }
   ],
   "source": [
    "add_flow_df.count()"
   ]
  },
  {
   "cell_type": "markdown",
   "metadata": {},
   "source": [
    "Median execution time for add-flow operaration:"
   ]
  },
  {
   "cell_type": "code",
   "execution_count": 73,
   "metadata": {
    "scrolled": true
   },
   "outputs": [
    {
     "data": {
      "text/plain": [
       "BASELINE               5022.0\n",
       "SGX                  103916.0\n",
       "OPTIMIZED             57446.0\n",
       "HOTCALL               13978.0\n",
       "HOTCALL+OPTIMIZED      9793.0\n",
       "dtype: float64"
      ]
     },
     "execution_count": 73,
     "metadata": {},
     "output_type": "execute_result"
    }
   ],
   "source": [
    "add_flow_df.median()"
   ]
  },
  {
   "cell_type": "code",
   "execution_count": 127,
   "metadata": {
    "scrolled": true
   },
   "outputs": [
    {
     "data": {
      "text/plain": [
       "Text(0, 0.5, 'Time')"
      ]
     },
     "execution_count": 127,
     "metadata": {},
     "output_type": "execute_result"
    },
    {
     "data": {
      "image/png": "[encoded data removed]",
      "text/plain": [
       "<Figure size 864x432 with 1 Axes>"
      ]
     },
     "metadata": {},
     "output_type": "display_data"
    }
   ],
   "source": [
    "ax = add_flow_df \\\n",
    "    .median() \\\n",
    "    .sort_values(ascending=False) \\\n",
    "    .plot(kind='bar', \n",
    "          title=\"Median add flow execution time in Micro seconds.\", \n",
    "          capsize=10, yerr=add_flow_df.std().tolist())\n",
    "ax.set_xlabel('Median', fontsize=18)\n",
    "ax.set_ylabel('Time', fontsize=18)"
   ]
  },
  {
   "cell_type": "code",
   "execution_count": 128,
   "metadata": {
    "scrolled": true
   },
   "outputs": [
    {
     "data": {
      "text/plain": [
       "Text(0, 0.5, 'Time')"
      ]
     },
     "execution_count": 128,
     "metadata": {},
     "output_type": "execute_result"
    },
    {
     "data": {
      "image/png": "[encoded data removed]",
      "text/plain": [
       "<Figure size 864x432 with 1 Axes>"
      ]
     },
     "metadata": {},
     "output_type": "display_data"
    }
   ],
   "source": [
    "cols = ['HOTCALL', 'BASELINE', 'HOTCALL+OPTIMIZED']\n",
    "ax = add_flow_df[cols] \\\n",
    "    .median() \\\n",
    "    .sort_values(ascending=False) \\\n",
    "    .plot(kind='bar', \n",
    "          title=\"Median add flow execution time in Micro seconds.\", \n",
    "          capsize=10, yerr=add_flow_df[cols].std().tolist())\n",
    "ax.set_xlabel('Median', fontsize=18)\n",
    "ax.set_ylabel('Time', fontsize=18)"
   ]
  },
  {
   "cell_type": "markdown",
   "metadata": {},
   "source": [
    "We can observe in the above boxplot that there are only outliers in the positive direction. "
   ]
  },
  {
   "cell_type": "markdown",
   "metadata": {},
   "source": [
    "## 1.2 Delete flows <a class=\"anchor\" id=\"1.2\"></a>"
   ]
  },
  {
   "cell_type": "markdown",
   "metadata": {},
   "source": [
    "### 1.2.1 strict <a class=\"anchor\" id=\"1.2.1\"></a>"
   ]
  },
  {
   "cell_type": "code",
   "execution_count": 129,
   "metadata": {},
   "outputs": [],
   "source": [
    "del_flow_strict_df = pd.read_csv(DATA_PATH + \"/del_flow_strict.csv\");"
   ]
  },
  {
   "cell_type": "code",
   "execution_count": 130,
   "metadata": {},
   "outputs": [
    {
     "data": {
      "text/html": [
       "<div>\n",
       "<style scoped>\n",
       "    .dataframe tbody tr th:only-of-type {\n",
       "        vertical-align: middle;\n",
       "    }\n",
       "\n",
       "    .dataframe tbody tr th {\n",
       "        vertical-align: top;\n",
       "    }\n",
       "\n",
       "    .dataframe thead th {\n",
       "        text-align: right;\n",
       "    }\n",
       "</style>\n",
       "<table border=\"1\" class=\"dataframe\">\n",
       "  <thead>\n",
       "    <tr style=\"text-align: right;\">\n",
       "      <th></th>\n",
       "      <th>BASELINE</th>\n",
       "      <th>SGX</th>\n",
       "      <th>OPTIMIZED</th>\n",
       "      <th>HOTCALL</th>\n",
       "      <th>HOTCALL+OPTIMIZED</th>\n",
       "    </tr>\n",
       "  </thead>\n",
       "  <tbody>\n",
       "    <tr>\n",
       "      <th>count</th>\n",
       "      <td>20001.000000</td>\n",
       "      <td>20001.000000</td>\n",
       "      <td>20001.000000</td>\n",
       "      <td>2.000100e+04</td>\n",
       "      <td>2.000100e+04</td>\n",
       "    </tr>\n",
       "    <tr>\n",
       "      <th>mean</th>\n",
       "      <td>39880.136593</td>\n",
       "      <td>34622.453527</td>\n",
       "      <td>36015.799960</td>\n",
       "      <td>1.686245e+04</td>\n",
       "      <td>9.222911e+14</td>\n",
       "    </tr>\n",
       "    <tr>\n",
       "      <th>std</th>\n",
       "      <td>11298.813543</td>\n",
       "      <td>10733.491988</td>\n",
       "      <td>12235.200126</td>\n",
       "      <td>2.981830e+04</td>\n",
       "      <td>1.304349e+17</td>\n",
       "    </tr>\n",
       "    <tr>\n",
       "      <th>min</th>\n",
       "      <td>33057.000000</td>\n",
       "      <td>21955.000000</td>\n",
       "      <td>21450.000000</td>\n",
       "      <td>1.138300e+04</td>\n",
       "      <td>1.104000e+04</td>\n",
       "    </tr>\n",
       "    <tr>\n",
       "      <th>25%</th>\n",
       "      <td>34906.000000</td>\n",
       "      <td>28682.000000</td>\n",
       "      <td>30202.000000</td>\n",
       "      <td>1.405700e+04</td>\n",
       "      <td>1.386100e+04</td>\n",
       "    </tr>\n",
       "    <tr>\n",
       "      <th>50%</th>\n",
       "      <td>36372.000000</td>\n",
       "      <td>32312.000000</td>\n",
       "      <td>32927.000000</td>\n",
       "      <td>1.495500e+04</td>\n",
       "      <td>1.468700e+04</td>\n",
       "    </tr>\n",
       "    <tr>\n",
       "      <th>75%</th>\n",
       "      <td>42052.000000</td>\n",
       "      <td>36897.000000</td>\n",
       "      <td>38414.000000</td>\n",
       "      <td>1.695700e+04</td>\n",
       "      <td>1.641400e+04</td>\n",
       "    </tr>\n",
       "    <tr>\n",
       "      <th>max</th>\n",
       "      <td>265217.000000</td>\n",
       "      <td>265537.000000</td>\n",
       "      <td>401333.000000</td>\n",
       "      <td>3.017522e+06</td>\n",
       "      <td>1.844674e+19</td>\n",
       "    </tr>\n",
       "  </tbody>\n",
       "</table>\n",
       "</div>"
      ],
      "text/plain": [
       "            BASELINE            SGX      OPTIMIZED       HOTCALL  \\\n",
       "count   20001.000000   20001.000000   20001.000000  2.000100e+04   \n",
       "mean    39880.136593   34622.453527   36015.799960  1.686245e+04   \n",
       "std     11298.813543   10733.491988   12235.200126  2.981830e+04   \n",
       "min     33057.000000   21955.000000   21450.000000  1.138300e+04   \n",
       "25%     34906.000000   28682.000000   30202.000000  1.405700e+04   \n",
       "50%     36372.000000   32312.000000   32927.000000  1.495500e+04   \n",
       "75%     42052.000000   36897.000000   38414.000000  1.695700e+04   \n",
       "max    265217.000000  265537.000000  401333.000000  3.017522e+06   \n",
       "\n",
       "       HOTCALL+OPTIMIZED  \n",
       "count       2.000100e+04  \n",
       "mean        9.222911e+14  \n",
       "std         1.304349e+17  \n",
       "min         1.104000e+04  \n",
       "25%         1.386100e+04  \n",
       "50%         1.468700e+04  \n",
       "75%         1.641400e+04  \n",
       "max         1.844674e+19  "
      ]
     },
     "execution_count": 130,
     "metadata": {},
     "output_type": "execute_result"
    }
   ],
   "source": [
    "del_flow_strict_df.describe()"
   ]
  },
  {
   "cell_type": "code",
   "execution_count": 131,
   "metadata": {},
   "outputs": [],
   "source": [
    "del_flow_strict_df = del_flow_strict_df\\\n",
    "    .mask(del_flow_strict_df > del_flow_strict_df.quantile(0.95), axis=0)"
   ]
  },
  {
   "cell_type": "markdown",
   "metadata": {},
   "source": [
    "Median execution time:"
   ]
  },
  {
   "cell_type": "code",
   "execution_count": 132,
   "metadata": {},
   "outputs": [
    {
     "data": {
      "text/html": [
       "<div>\n",
       "<style scoped>\n",
       "    .dataframe tbody tr th:only-of-type {\n",
       "        vertical-align: middle;\n",
       "    }\n",
       "\n",
       "    .dataframe tbody tr th {\n",
       "        vertical-align: top;\n",
       "    }\n",
       "\n",
       "    .dataframe thead th {\n",
       "        text-align: right;\n",
       "    }\n",
       "</style>\n",
       "<table border=\"1\" class=\"dataframe\">\n",
       "  <thead>\n",
       "    <tr style=\"text-align: right;\">\n",
       "      <th></th>\n",
       "      <th>BASELINE</th>\n",
       "      <th>SGX</th>\n",
       "      <th>OPTIMIZED</th>\n",
       "      <th>HOTCALL</th>\n",
       "      <th>HOTCALL+OPTIMIZED</th>\n",
       "    </tr>\n",
       "  </thead>\n",
       "  <tbody>\n",
       "    <tr>\n",
       "      <th>count</th>\n",
       "      <td>19001.000000</td>\n",
       "      <td>19001.000000</td>\n",
       "      <td>19001.000000</td>\n",
       "      <td>19001.000000</td>\n",
       "      <td>19001.000000</td>\n",
       "    </tr>\n",
       "    <tr>\n",
       "      <th>mean</th>\n",
       "      <td>38118.553129</td>\n",
       "      <td>32753.670754</td>\n",
       "      <td>33915.454081</td>\n",
       "      <td>15523.348455</td>\n",
       "      <td>15184.615810</td>\n",
       "    </tr>\n",
       "    <tr>\n",
       "      <th>std</th>\n",
       "      <td>4283.985360</td>\n",
       "      <td>5198.742131</td>\n",
       "      <td>5144.540323</td>\n",
       "      <td>2238.003974</td>\n",
       "      <td>2088.886141</td>\n",
       "    </tr>\n",
       "    <tr>\n",
       "      <th>min</th>\n",
       "      <td>33057.000000</td>\n",
       "      <td>21955.000000</td>\n",
       "      <td>21450.000000</td>\n",
       "      <td>11383.000000</td>\n",
       "      <td>11040.000000</td>\n",
       "    </tr>\n",
       "    <tr>\n",
       "      <th>25%</th>\n",
       "      <td>34836.000000</td>\n",
       "      <td>28524.000000</td>\n",
       "      <td>30044.000000</td>\n",
       "      <td>14009.000000</td>\n",
       "      <td>13817.000000</td>\n",
       "    </tr>\n",
       "    <tr>\n",
       "      <th>50%</th>\n",
       "      <td>36165.000000</td>\n",
       "      <td>31987.000000</td>\n",
       "      <td>32673.000000</td>\n",
       "      <td>14849.000000</td>\n",
       "      <td>14597.000000</td>\n",
       "    </tr>\n",
       "    <tr>\n",
       "      <th>75%</th>\n",
       "      <td>40736.000000</td>\n",
       "      <td>35824.000000</td>\n",
       "      <td>37438.000000</td>\n",
       "      <td>16405.000000</td>\n",
       "      <td>15909.000000</td>\n",
       "    </tr>\n",
       "    <tr>\n",
       "      <th>max</th>\n",
       "      <td>50912.000000</td>\n",
       "      <td>49906.000000</td>\n",
       "      <td>51681.000000</td>\n",
       "      <td>23467.000000</td>\n",
       "      <td>22773.000000</td>\n",
       "    </tr>\n",
       "  </tbody>\n",
       "</table>\n",
       "</div>"
      ],
      "text/plain": [
       "           BASELINE           SGX     OPTIMIZED       HOTCALL  \\\n",
       "count  19001.000000  19001.000000  19001.000000  19001.000000   \n",
       "mean   38118.553129  32753.670754  33915.454081  15523.348455   \n",
       "std     4283.985360   5198.742131   5144.540323   2238.003974   \n",
       "min    33057.000000  21955.000000  21450.000000  11383.000000   \n",
       "25%    34836.000000  28524.000000  30044.000000  14009.000000   \n",
       "50%    36165.000000  31987.000000  32673.000000  14849.000000   \n",
       "75%    40736.000000  35824.000000  37438.000000  16405.000000   \n",
       "max    50912.000000  49906.000000  51681.000000  23467.000000   \n",
       "\n",
       "       HOTCALL+OPTIMIZED  \n",
       "count       19001.000000  \n",
       "mean        15184.615810  \n",
       "std          2088.886141  \n",
       "min         11040.000000  \n",
       "25%         13817.000000  \n",
       "50%         14597.000000  \n",
       "75%         15909.000000  \n",
       "max         22773.000000  "
      ]
     },
     "execution_count": 132,
     "metadata": {},
     "output_type": "execute_result"
    }
   ],
   "source": [
    "del_flow_strict_df.describe()"
   ]
  },
  {
   "cell_type": "code",
   "execution_count": 134,
   "metadata": {
    "scrolled": true
   },
   "outputs": [
    {
     "data": {
      "text/plain": [
       "Text(0, 0.5, 'Time')"
      ]
     },
     "execution_count": 134,
     "metadata": {},
     "output_type": "execute_result"
    },
    {
     "data": {
      "image/png": "[encoded data removed]",
      "text/plain": [
       "<Figure size 864x432 with 1 Axes>"
      ]
     },
     "metadata": {},
     "output_type": "display_data"
    }
   ],
   "source": [
    "ax = del_flow_strict_df \\\n",
    "    .median() \\\n",
    "    .sort_values(ascending=False) \\\n",
    "    .plot(kind='bar', \n",
    "          title=\"Median execution time in Micro seconds.\", \n",
    "          capsize=10, yerr=del_flow_strict_df.std().tolist())\n",
    "ax.set_xlabel('Median', fontsize=18)\n",
    "ax.set_ylabel('Time', fontsize=18)"
   ]
  },
  {
   "cell_type": "markdown",
   "metadata": {},
   "source": [
    "### 1.2.2 loose <a class=\"anchor\" id=\"1.2.2\"></a>"
   ]
  },
  {
   "cell_type": "code",
   "execution_count": 135,
   "metadata": {},
   "outputs": [],
   "source": [
    "del_flow_loose_df = pd.read_csv(DATA_PATH + \"/del_flow_loose.csv\");"
   ]
  },
  {
   "cell_type": "code",
   "execution_count": 136,
   "metadata": {},
   "outputs": [
    {
     "data": {
      "text/html": [
       "<div>\n",
       "<style scoped>\n",
       "    .dataframe tbody tr th:only-of-type {\n",
       "        vertical-align: middle;\n",
       "    }\n",
       "\n",
       "    .dataframe tbody tr th {\n",
       "        vertical-align: top;\n",
       "    }\n",
       "\n",
       "    .dataframe thead th {\n",
       "        text-align: right;\n",
       "    }\n",
       "</style>\n",
       "<table border=\"1\" class=\"dataframe\">\n",
       "  <thead>\n",
       "    <tr style=\"text-align: right;\">\n",
       "      <th></th>\n",
       "      <th>BASELINE</th>\n",
       "      <th>SGX</th>\n",
       "      <th>OPTIMIZED</th>\n",
       "      <th>HOTCALL</th>\n",
       "      <th>HOTCALL+OPTIMIZED</th>\n",
       "    </tr>\n",
       "  </thead>\n",
       "  <tbody>\n",
       "    <tr>\n",
       "      <th>count</th>\n",
       "      <td>20001.000000</td>\n",
       "      <td>2.000100e+04</td>\n",
       "      <td>20001.000000</td>\n",
       "      <td>2.000100e+04</td>\n",
       "      <td>20001.000000</td>\n",
       "    </tr>\n",
       "    <tr>\n",
       "      <th>mean</th>\n",
       "      <td>19547.822009</td>\n",
       "      <td>9.222911e+14</td>\n",
       "      <td>97113.904205</td>\n",
       "      <td>9.222911e+14</td>\n",
       "      <td>21459.793710</td>\n",
       "    </tr>\n",
       "    <tr>\n",
       "      <th>std</th>\n",
       "      <td>6996.363775</td>\n",
       "      <td>1.304349e+17</td>\n",
       "      <td>23436.476721</td>\n",
       "      <td>1.304349e+17</td>\n",
       "      <td>7914.592582</td>\n",
       "    </tr>\n",
       "    <tr>\n",
       "      <th>min</th>\n",
       "      <td>13863.000000</td>\n",
       "      <td>9.595700e+04</td>\n",
       "      <td>77407.000000</td>\n",
       "      <td>1.859500e+04</td>\n",
       "      <td>14445.000000</td>\n",
       "    </tr>\n",
       "    <tr>\n",
       "      <th>25%</th>\n",
       "      <td>16054.000000</td>\n",
       "      <td>1.065170e+05</td>\n",
       "      <td>86212.000000</td>\n",
       "      <td>2.388700e+04</td>\n",
       "      <td>18214.000000</td>\n",
       "    </tr>\n",
       "    <tr>\n",
       "      <th>50%</th>\n",
       "      <td>17457.000000</td>\n",
       "      <td>1.128790e+05</td>\n",
       "      <td>90390.000000</td>\n",
       "      <td>2.520600e+04</td>\n",
       "      <td>19470.000000</td>\n",
       "    </tr>\n",
       "    <tr>\n",
       "      <th>75%</th>\n",
       "      <td>20713.000000</td>\n",
       "      <td>1.249260e+05</td>\n",
       "      <td>98701.000000</td>\n",
       "      <td>2.799100e+04</td>\n",
       "      <td>22333.000000</td>\n",
       "    </tr>\n",
       "    <tr>\n",
       "      <th>max</th>\n",
       "      <td>136965.000000</td>\n",
       "      <td>1.844674e+19</td>\n",
       "      <td>486875.000000</td>\n",
       "      <td>1.844674e+19</td>\n",
       "      <td>209060.000000</td>\n",
       "    </tr>\n",
       "  </tbody>\n",
       "</table>\n",
       "</div>"
      ],
      "text/plain": [
       "            BASELINE           SGX      OPTIMIZED       HOTCALL  \\\n",
       "count   20001.000000  2.000100e+04   20001.000000  2.000100e+04   \n",
       "mean    19547.822009  9.222911e+14   97113.904205  9.222911e+14   \n",
       "std      6996.363775  1.304349e+17   23436.476721  1.304349e+17   \n",
       "min     13863.000000  9.595700e+04   77407.000000  1.859500e+04   \n",
       "25%     16054.000000  1.065170e+05   86212.000000  2.388700e+04   \n",
       "50%     17457.000000  1.128790e+05   90390.000000  2.520600e+04   \n",
       "75%     20713.000000  1.249260e+05   98701.000000  2.799100e+04   \n",
       "max    136965.000000  1.844674e+19  486875.000000  1.844674e+19   \n",
       "\n",
       "       HOTCALL+OPTIMIZED  \n",
       "count       20001.000000  \n",
       "mean        21459.793710  \n",
       "std          7914.592582  \n",
       "min         14445.000000  \n",
       "25%         18214.000000  \n",
       "50%         19470.000000  \n",
       "75%         22333.000000  \n",
       "max        209060.000000  "
      ]
     },
     "execution_count": 136,
     "metadata": {},
     "output_type": "execute_result"
    }
   ],
   "source": [
    "del_flow_loose_df.describe()"
   ]
  },
  {
   "cell_type": "code",
   "execution_count": 137,
   "metadata": {},
   "outputs": [],
   "source": [
    "del_flow_loose_df = del_flow_loose_df\\\n",
    "    .mask(del_flow_loose_df > del_flow_loose_df.quantile(0.99), axis=0)"
   ]
  },
  {
   "cell_type": "code",
   "execution_count": 138,
   "metadata": {},
   "outputs": [
    {
     "data": {
      "text/plain": [
       "Text(0, 0.5, 'Time')"
      ]
     },
     "execution_count": 138,
     "metadata": {},
     "output_type": "execute_result"
    },
    {
     "data": {
      "image/png": "[encoded data removed]",
      "text/plain": [
       "<Figure size 864x432 with 1 Axes>"
      ]
     },
     "metadata": {},
     "output_type": "display_data"
    }
   ],
   "source": [
    "ax = del_flow_loose_df \\\n",
    "    .median() \\\n",
    "    .sort_values(ascending=False) \\\n",
    "    .plot(kind='bar', \n",
    "          title=\"Median execution time in Micro seconds.\", \n",
    "          capsize=10, yerr=del_flow_loose_df.std().tolist())\n",
    "ax.set_xlabel('Median', fontsize=18)\n",
    "ax.set_ylabel('Time', fontsize=18)"
   ]
  },
  {
   "cell_type": "code",
   "execution_count": 139,
   "metadata": {},
   "outputs": [
    {
     "data": {
      "text/plain": [
       "Text(0, 0.5, 'Time')"
      ]
     },
     "execution_count": 139,
     "metadata": {},
     "output_type": "execute_result"
    },
    {
     "data": {
      "image/png": "[encoded data removed]",
      "text/plain": [
       "<Figure size 864x432 with 1 Axes>"
      ]
     },
     "metadata": {},
     "output_type": "display_data"
    }
   ],
   "source": [
    "cols = ['HOTCALL', 'BASELINE', 'HOTCALL+OPTIMIZED']\n",
    "ax = del_flow_loose_df[cols] \\\n",
    "    .median() \\\n",
    "    .sort_values(ascending=False) \\\n",
    "    .plot(kind='bar', \n",
    "          title=\"Median execution time in Micro seconds.\", \n",
    "          capsize=10, yerr=del_flow_loose_df[cols].std().tolist())\n",
    "ax.set_xlabel('Median', fontsize=18)\n",
    "ax.set_ylabel('Time', fontsize=18)"
   ]
  },
  {
   "cell_type": "markdown",
   "metadata": {},
   "source": [
    "## 1.3 Modify flows <a class=\"anchor\" id=\"1.3\"></a>"
   ]
  },
  {
   "cell_type": "markdown",
   "metadata": {},
   "source": [
    "### 1.3.1 strict <a class=\"anchor\" id=\"1.3.1\"></a>\n",
    "\n",
    "Modifies at most a single flow in each flow table which has to match exactly with the properties specified in the mod flow command."
   ]
  },
  {
   "cell_type": "code",
   "execution_count": 86,
   "metadata": {},
   "outputs": [],
   "source": [
    "mod_flow_srict_df = pd.read_csv(DATA_PATH + \"/mod_flow_strict.csv\");"
   ]
  },
  {
   "cell_type": "code",
   "execution_count": 87,
   "metadata": {
    "scrolled": true
   },
   "outputs": [
    {
     "data": {
      "text/html": [
       "<div>\n",
       "<style scoped>\n",
       "    .dataframe tbody tr th:only-of-type {\n",
       "        vertical-align: middle;\n",
       "    }\n",
       "\n",
       "    .dataframe tbody tr th {\n",
       "        vertical-align: top;\n",
       "    }\n",
       "\n",
       "    .dataframe thead th {\n",
       "        text-align: right;\n",
       "    }\n",
       "</style>\n",
       "<table border=\"1\" class=\"dataframe\">\n",
       "  <thead>\n",
       "    <tr style=\"text-align: right;\">\n",
       "      <th></th>\n",
       "      <th>BASELINE</th>\n",
       "      <th>SGX</th>\n",
       "      <th>OPTIMIZED</th>\n",
       "      <th>HOTCALL</th>\n",
       "      <th>HOTCALL+OPTIMIZED</th>\n",
       "    </tr>\n",
       "  </thead>\n",
       "  <tbody>\n",
       "    <tr>\n",
       "      <th>count</th>\n",
       "      <td>5001.000000</td>\n",
       "      <td>5001.000000</td>\n",
       "      <td>5.001000e+03</td>\n",
       "      <td>5.001000e+03</td>\n",
       "      <td>5001.000000</td>\n",
       "    </tr>\n",
       "    <tr>\n",
       "      <th>mean</th>\n",
       "      <td>7477.075785</td>\n",
       "      <td>76731.282543</td>\n",
       "      <td>7.377222e+15</td>\n",
       "      <td>3.688611e+15</td>\n",
       "      <td>11359.709258</td>\n",
       "    </tr>\n",
       "    <tr>\n",
       "      <th>std</th>\n",
       "      <td>3928.873369</td>\n",
       "      <td>15325.254794</td>\n",
       "      <td>3.688611e+17</td>\n",
       "      <td>2.608503e+17</td>\n",
       "      <td>8538.137094</td>\n",
       "    </tr>\n",
       "    <tr>\n",
       "      <th>min</th>\n",
       "      <td>4019.000000</td>\n",
       "      <td>57923.000000</td>\n",
       "      <td>4.272600e+04</td>\n",
       "      <td>7.070000e+03</td>\n",
       "      <td>5672.000000</td>\n",
       "    </tr>\n",
       "    <tr>\n",
       "      <th>25%</th>\n",
       "      <td>6075.000000</td>\n",
       "      <td>68744.000000</td>\n",
       "      <td>5.203800e+04</td>\n",
       "      <td>1.013400e+04</td>\n",
       "      <td>9097.000000</td>\n",
       "    </tr>\n",
       "    <tr>\n",
       "      <th>50%</th>\n",
       "      <td>6841.000000</td>\n",
       "      <td>73302.000000</td>\n",
       "      <td>5.564500e+04</td>\n",
       "      <td>1.152600e+04</td>\n",
       "      <td>10520.000000</td>\n",
       "    </tr>\n",
       "    <tr>\n",
       "      <th>75%</th>\n",
       "      <td>8158.000000</td>\n",
       "      <td>82001.000000</td>\n",
       "      <td>6.229200e+04</td>\n",
       "      <td>1.264300e+04</td>\n",
       "      <td>11557.000000</td>\n",
       "    </tr>\n",
       "    <tr>\n",
       "      <th>max</th>\n",
       "      <td>190184.000000</td>\n",
       "      <td>430334.000000</td>\n",
       "      <td>1.844674e+19</td>\n",
       "      <td>1.844674e+19</td>\n",
       "      <td>423194.000000</td>\n",
       "    </tr>\n",
       "  </tbody>\n",
       "</table>\n",
       "</div>"
      ],
      "text/plain": [
       "            BASELINE            SGX     OPTIMIZED       HOTCALL  \\\n",
       "count    5001.000000    5001.000000  5.001000e+03  5.001000e+03   \n",
       "mean     7477.075785   76731.282543  7.377222e+15  3.688611e+15   \n",
       "std      3928.873369   15325.254794  3.688611e+17  2.608503e+17   \n",
       "min      4019.000000   57923.000000  4.272600e+04  7.070000e+03   \n",
       "25%      6075.000000   68744.000000  5.203800e+04  1.013400e+04   \n",
       "50%      6841.000000   73302.000000  5.564500e+04  1.152600e+04   \n",
       "75%      8158.000000   82001.000000  6.229200e+04  1.264300e+04   \n",
       "max    190184.000000  430334.000000  1.844674e+19  1.844674e+19   \n",
       "\n",
       "       HOTCALL+OPTIMIZED  \n",
       "count        5001.000000  \n",
       "mean        11359.709258  \n",
       "std          8538.137094  \n",
       "min          5672.000000  \n",
       "25%          9097.000000  \n",
       "50%         10520.000000  \n",
       "75%         11557.000000  \n",
       "max        423194.000000  "
      ]
     },
     "execution_count": 87,
     "metadata": {},
     "output_type": "execute_result"
    }
   ],
   "source": [
    "mod_flow_srict_df.describe()"
   ]
  },
  {
   "cell_type": "code",
   "execution_count": 88,
   "metadata": {},
   "outputs": [
    {
     "data": {
      "text/plain": [
       "BASELINE              6841.0\n",
       "SGX                  73302.0\n",
       "OPTIMIZED            55645.0\n",
       "HOTCALL              11526.0\n",
       "HOTCALL+OPTIMIZED    10520.0\n",
       "dtype: float64"
      ]
     },
     "execution_count": 88,
     "metadata": {},
     "output_type": "execute_result"
    }
   ],
   "source": [
    "mod_flow_srict_df.median()"
   ]
  },
  {
   "cell_type": "code",
   "execution_count": 89,
   "metadata": {},
   "outputs": [],
   "source": [
    "mod_flow_srict_df = mod_flow_srict_df\\\n",
    "    .mask(mod_flow_srict_df > mod_flow_srict_df.quantile(0.95), axis=0)"
   ]
  },
  {
   "cell_type": "code",
   "execution_count": 141,
   "metadata": {
    "scrolled": true
   },
   "outputs": [
    {
     "data": {
      "text/plain": [
       "Text(0, 0.5, 'Time')"
      ]
     },
     "execution_count": 141,
     "metadata": {},
     "output_type": "execute_result"
    },
    {
     "data": {
      "image/png": "[encoded data removed]",
      "text/plain": [
       "<Figure size 864x432 with 1 Axes>"
      ]
     },
     "metadata": {},
     "output_type": "display_data"
    }
   ],
   "source": [
    "ax = mod_flow_srict_df \\\n",
    "    .median() \\\n",
    "    .sort_values(ascending=False) \\\n",
    "    .plot(kind='bar', \n",
    "          title=\"Median execution time in Micro seconds.\",\n",
    "          capsize=10, yerr=mod_flow_srict_df.std().tolist())\n",
    "ax.set_xlabel('Median', fontsize=18)\n",
    "ax.set_ylabel('Time', fontsize=18)"
   ]
  },
  {
   "cell_type": "code",
   "execution_count": 142,
   "metadata": {},
   "outputs": [
    {
     "data": {
      "text/plain": [
       "Text(0, 0.5, 'Time')"
      ]
     },
     "execution_count": 142,
     "metadata": {},
     "output_type": "execute_result"
    },
    {
     "data": {
      "image/png": "[encoded data removed]",
      "text/plain": [
       "<Figure size 864x432 with 1 Axes>"
      ]
     },
     "metadata": {},
     "output_type": "display_data"
    }
   ],
   "source": [
    "cols = ['HOTCALL', 'BASELINE', 'HOTCALL+OPTIMIZED']\n",
    "ax = mod_flow_srict_df[cols] \\\n",
    "    .median() \\\n",
    "    .sort_values(ascending=False) \\\n",
    "    .plot(kind='bar', \n",
    "          title=\"Median add flow execution time in Micro seconds.\", \n",
    "          capsize=10, yerr=mod_flow_srict_df[cols].std().tolist())\n",
    "ax.set_xlabel('Median', fontsize=18)\n",
    "ax.set_ylabel('Time', fontsize=18)"
   ]
  },
  {
   "cell_type": "markdown",
   "metadata": {},
   "source": [
    "### 1.3.2 loose <a class=\"anchor\" id=\"1.3.2\"></a>\n",
    "\n",
    "Modifies flows which matches the properties specified in the mod flow command but also supports wild card matching on the properties not specified in the command. "
   ]
  },
  {
   "cell_type": "code",
   "execution_count": 92,
   "metadata": {},
   "outputs": [],
   "source": [
    "mod_flow_loose_df = pd.read_csv(DATA_PATH + \"/mod_flow_loose.csv\");"
   ]
  },
  {
   "cell_type": "code",
   "execution_count": 93,
   "metadata": {},
   "outputs": [
    {
     "data": {
      "text/html": [
       "<div>\n",
       "<style scoped>\n",
       "    .dataframe tbody tr th:only-of-type {\n",
       "        vertical-align: middle;\n",
       "    }\n",
       "\n",
       "    .dataframe tbody tr th {\n",
       "        vertical-align: top;\n",
       "    }\n",
       "\n",
       "    .dataframe thead th {\n",
       "        text-align: right;\n",
       "    }\n",
       "</style>\n",
       "<table border=\"1\" class=\"dataframe\">\n",
       "  <thead>\n",
       "    <tr style=\"text-align: right;\">\n",
       "      <th></th>\n",
       "      <th>BASELINE</th>\n",
       "      <th>SGX</th>\n",
       "      <th>OPTIMIZED</th>\n",
       "      <th>HOTCALL</th>\n",
       "      <th>HOTCALL+OPTIMIZED</th>\n",
       "    </tr>\n",
       "  </thead>\n",
       "  <tbody>\n",
       "    <tr>\n",
       "      <th>count</th>\n",
       "      <td>20001.000000</td>\n",
       "      <td>2.000100e+04</td>\n",
       "      <td>2.000100e+04</td>\n",
       "      <td>2.000100e+04</td>\n",
       "      <td>2.000100e+04</td>\n",
       "    </tr>\n",
       "    <tr>\n",
       "      <th>mean</th>\n",
       "      <td>17435.293635</td>\n",
       "      <td>2.766873e+15</td>\n",
       "      <td>9.222911e+14</td>\n",
       "      <td>1.844582e+15</td>\n",
       "      <td>1.793267e+04</td>\n",
       "    </tr>\n",
       "    <tr>\n",
       "      <th>std</th>\n",
       "      <td>4634.230043</td>\n",
       "      <td>2.259086e+17</td>\n",
       "      <td>1.304349e+17</td>\n",
       "      <td>1.844582e+17</td>\n",
       "      <td>1.557761e+04</td>\n",
       "    </tr>\n",
       "    <tr>\n",
       "      <th>min</th>\n",
       "      <td>12968.000000</td>\n",
       "      <td>6.517300e+04</td>\n",
       "      <td>4.703600e+04</td>\n",
       "      <td>1.714200e+04</td>\n",
       "      <td>1.157800e+04</td>\n",
       "    </tr>\n",
       "    <tr>\n",
       "      <th>25%</th>\n",
       "      <td>15229.000000</td>\n",
       "      <td>7.355900e+04</td>\n",
       "      <td>5.591700e+04</td>\n",
       "      <td>2.021000e+04</td>\n",
       "      <td>1.430400e+04</td>\n",
       "    </tr>\n",
       "    <tr>\n",
       "      <th>50%</th>\n",
       "      <td>15917.000000</td>\n",
       "      <td>7.631900e+04</td>\n",
       "      <td>5.845300e+04</td>\n",
       "      <td>2.176000e+04</td>\n",
       "      <td>1.598300e+04</td>\n",
       "    </tr>\n",
       "    <tr>\n",
       "      <th>75%</th>\n",
       "      <td>18691.000000</td>\n",
       "      <td>8.207100e+04</td>\n",
       "      <td>6.342400e+04</td>\n",
       "      <td>2.398900e+04</td>\n",
       "      <td>1.842800e+04</td>\n",
       "    </tr>\n",
       "    <tr>\n",
       "      <th>max</th>\n",
       "      <td>114085.000000</td>\n",
       "      <td>1.844674e+19</td>\n",
       "      <td>1.844674e+19</td>\n",
       "      <td>1.844674e+19</td>\n",
       "      <td>1.641541e+06</td>\n",
       "    </tr>\n",
       "  </tbody>\n",
       "</table>\n",
       "</div>"
      ],
      "text/plain": [
       "            BASELINE           SGX     OPTIMIZED       HOTCALL  \\\n",
       "count   20001.000000  2.000100e+04  2.000100e+04  2.000100e+04   \n",
       "mean    17435.293635  2.766873e+15  9.222911e+14  1.844582e+15   \n",
       "std      4634.230043  2.259086e+17  1.304349e+17  1.844582e+17   \n",
       "min     12968.000000  6.517300e+04  4.703600e+04  1.714200e+04   \n",
       "25%     15229.000000  7.355900e+04  5.591700e+04  2.021000e+04   \n",
       "50%     15917.000000  7.631900e+04  5.845300e+04  2.176000e+04   \n",
       "75%     18691.000000  8.207100e+04  6.342400e+04  2.398900e+04   \n",
       "max    114085.000000  1.844674e+19  1.844674e+19  1.844674e+19   \n",
       "\n",
       "       HOTCALL+OPTIMIZED  \n",
       "count       2.000100e+04  \n",
       "mean        1.793267e+04  \n",
       "std         1.557761e+04  \n",
       "min         1.157800e+04  \n",
       "25%         1.430400e+04  \n",
       "50%         1.598300e+04  \n",
       "75%         1.842800e+04  \n",
       "max         1.641541e+06  "
      ]
     },
     "execution_count": 93,
     "metadata": {},
     "output_type": "execute_result"
    }
   ],
   "source": [
    "mod_flow_loose_df.describe()"
   ]
  },
  {
   "cell_type": "code",
   "execution_count": 94,
   "metadata": {},
   "outputs": [],
   "source": [
    "mod_flow_loose_df = mod_flow_loose_df\\\n",
    "    .mask(mod_flow_loose_df > mod_flow_loose_df.quantile(0.95), axis=0)"
   ]
  },
  {
   "cell_type": "code",
   "execution_count": 95,
   "metadata": {},
   "outputs": [
    {
     "data": {
      "text/plain": [
       "BASELINE             15837.0\n",
       "SGX                  75995.0\n",
       "OPTIMIZED            58116.0\n",
       "HOTCALL              21625.0\n",
       "HOTCALL+OPTIMIZED    15860.0\n",
       "dtype: float64"
      ]
     },
     "execution_count": 95,
     "metadata": {},
     "output_type": "execute_result"
    }
   ],
   "source": [
    "mod_flow_loose_df.median()"
   ]
  },
  {
   "cell_type": "code",
   "execution_count": 143,
   "metadata": {
    "scrolled": false
   },
   "outputs": [
    {
     "data": {
      "text/plain": [
       "Text(0, 0.5, 'Time')"
      ]
     },
     "execution_count": 143,
     "metadata": {},
     "output_type": "execute_result"
    },
    {
     "data": {
      "image/png": "[encoded data removed]",
      "text/plain": [
       "<Figure size 864x432 with 1 Axes>"
      ]
     },
     "metadata": {},
     "output_type": "display_data"
    }
   ],
   "source": [
    "ax = mod_flow_loose_df \\\n",
    "    .median() \\\n",
    "    .sort_values(ascending=False) \\\n",
    "    .plot(kind='bar', \n",
    "          title=\"Median execution time in Micro seconds.\", \n",
    "          capsize=10, yerr=mod_flow_loose_df.std().tolist())\n",
    "ax.set_xlabel('Median', fontsize=18)\n",
    "ax.set_ylabel('Time', fontsize=18)"
   ]
  },
  {
   "cell_type": "code",
   "execution_count": 144,
   "metadata": {},
   "outputs": [
    {
     "data": {
      "text/plain": [
       "Text(0, 0.5, 'Time')"
      ]
     },
     "execution_count": 144,
     "metadata": {},
     "output_type": "execute_result"
    },
    {
     "data": {
      "image/png": "[encoded data removed]",
      "text/plain": [
       "<Figure size 864x432 with 1 Axes>"
      ]
     },
     "metadata": {},
     "output_type": "display_data"
    }
   ],
   "source": [
    "cols = ['HOTCALL', 'BASELINE', 'HOTCALL+OPTIMIZED']\n",
    "ax = mod_flow_loose_df[cols] \\\n",
    "    .median() \\\n",
    "    .sort_values(ascending=False) \\\n",
    "    .plot(kind='bar', \n",
    "          title=\"Median execution time in Micro seconds.\", \n",
    "          capsize=10, yerr=mod_flow_loose_df[cols].std().tolist())\n",
    "ax.set_xlabel('Median', fontsize=18)\n",
    "ax.set_ylabel('Time', fontsize=18)"
   ]
  },
  {
   "cell_type": "markdown",
   "metadata": {},
   "source": [
    "## 1.4 Flow eviction <a class=\"anchor\" id=\"1.4\"></a>"
   ]
  },
  {
   "cell_type": "markdown",
   "metadata": {},
   "source": [
    "## 1.4.1 Batch eviction <a class=\"anchor\" id=\"1.4.1\"></a>\n",
    "Results from changing the max flow property of a flow table. Meassures the time to evict 10 rules in a batch."
   ]
  },
  {
   "cell_type": "code",
   "execution_count": 147,
   "metadata": {},
   "outputs": [],
   "source": [
    "evict_rule_batch_df = pd.read_csv(DATA_PATH + \"/evict_rule_batch.csv\");"
   ]
  },
  {
   "cell_type": "code",
   "execution_count": 148,
   "metadata": {},
   "outputs": [],
   "source": [
    "evict_rule_batch_df = evict_rule_batch_df\\\n",
    "    .mask(evict_rule_batch_df > evict_rule_batch_df.quantile(0.95), axis=0)"
   ]
  },
  {
   "cell_type": "code",
   "execution_count": 149,
   "metadata": {},
   "outputs": [
    {
     "data": {
      "text/html": [
       "<div>\n",
       "<style scoped>\n",
       "    .dataframe tbody tr th:only-of-type {\n",
       "        vertical-align: middle;\n",
       "    }\n",
       "\n",
       "    .dataframe tbody tr th {\n",
       "        vertical-align: top;\n",
       "    }\n",
       "\n",
       "    .dataframe thead th {\n",
       "        text-align: right;\n",
       "    }\n",
       "</style>\n",
       "<table border=\"1\" class=\"dataframe\">\n",
       "  <thead>\n",
       "    <tr style=\"text-align: right;\">\n",
       "      <th></th>\n",
       "      <th>BASELINE</th>\n",
       "      <th>SGX</th>\n",
       "      <th>OPTIMIZED</th>\n",
       "      <th>HOTCALL</th>\n",
       "      <th>HOTCALL+OPTIMIZED</th>\n",
       "    </tr>\n",
       "  </thead>\n",
       "  <tbody>\n",
       "    <tr>\n",
       "      <th>count</th>\n",
       "      <td>4751.000000</td>\n",
       "      <td>4.751000e+03</td>\n",
       "      <td>4751.000000</td>\n",
       "      <td>4751.000000</td>\n",
       "      <td>4751.000000</td>\n",
       "    </tr>\n",
       "    <tr>\n",
       "      <th>mean</th>\n",
       "      <td>16948.297201</td>\n",
       "      <td>4.376510e+06</td>\n",
       "      <td>116673.913913</td>\n",
       "      <td>186197.365397</td>\n",
       "      <td>33920.508314</td>\n",
       "    </tr>\n",
       "    <tr>\n",
       "      <th>std</th>\n",
       "      <td>2288.238536</td>\n",
       "      <td>4.124133e+05</td>\n",
       "      <td>10351.566981</td>\n",
       "      <td>33460.894296</td>\n",
       "      <td>2699.874053</td>\n",
       "    </tr>\n",
       "    <tr>\n",
       "      <th>min</th>\n",
       "      <td>13879.000000</td>\n",
       "      <td>3.569341e+06</td>\n",
       "      <td>101561.000000</td>\n",
       "      <td>124454.000000</td>\n",
       "      <td>22447.000000</td>\n",
       "    </tr>\n",
       "    <tr>\n",
       "      <th>25%</th>\n",
       "      <td>15203.000000</td>\n",
       "      <td>4.065476e+06</td>\n",
       "      <td>108125.000000</td>\n",
       "      <td>141847.500000</td>\n",
       "      <td>31976.500000</td>\n",
       "    </tr>\n",
       "    <tr>\n",
       "      <th>50%</th>\n",
       "      <td>15818.000000</td>\n",
       "      <td>4.259156e+06</td>\n",
       "      <td>111989.000000</td>\n",
       "      <td>201120.000000</td>\n",
       "      <td>33598.000000</td>\n",
       "    </tr>\n",
       "    <tr>\n",
       "      <th>75%</th>\n",
       "      <td>19283.000000</td>\n",
       "      <td>4.595836e+06</td>\n",
       "      <td>125572.500000</td>\n",
       "      <td>207011.500000</td>\n",
       "      <td>35586.000000</td>\n",
       "    </tr>\n",
       "    <tr>\n",
       "      <th>max</th>\n",
       "      <td>22175.000000</td>\n",
       "      <td>5.618968e+06</td>\n",
       "      <td>145149.000000</td>\n",
       "      <td>251489.000000</td>\n",
       "      <td>42143.000000</td>\n",
       "    </tr>\n",
       "  </tbody>\n",
       "</table>\n",
       "</div>"
      ],
      "text/plain": [
       "           BASELINE           SGX      OPTIMIZED        HOTCALL  \\\n",
       "count   4751.000000  4.751000e+03    4751.000000    4751.000000   \n",
       "mean   16948.297201  4.376510e+06  116673.913913  186197.365397   \n",
       "std     2288.238536  4.124133e+05   10351.566981   33460.894296   \n",
       "min    13879.000000  3.569341e+06  101561.000000  124454.000000   \n",
       "25%    15203.000000  4.065476e+06  108125.000000  141847.500000   \n",
       "50%    15818.000000  4.259156e+06  111989.000000  201120.000000   \n",
       "75%    19283.000000  4.595836e+06  125572.500000  207011.500000   \n",
       "max    22175.000000  5.618968e+06  145149.000000  251489.000000   \n",
       "\n",
       "       HOTCALL+OPTIMIZED  \n",
       "count        4751.000000  \n",
       "mean        33920.508314  \n",
       "std          2699.874053  \n",
       "min         22447.000000  \n",
       "25%         31976.500000  \n",
       "50%         33598.000000  \n",
       "75%         35586.000000  \n",
       "max         42143.000000  "
      ]
     },
     "execution_count": 149,
     "metadata": {},
     "output_type": "execute_result"
    }
   ],
   "source": [
    "evict_rule_batch_df.describe()"
   ]
  },
  {
   "cell_type": "code",
   "execution_count": 150,
   "metadata": {},
   "outputs": [
    {
     "data": {
      "text/plain": [
       "BASELINE               15818.0\n",
       "SGX                  4259156.0\n",
       "OPTIMIZED             111989.0\n",
       "HOTCALL               201120.0\n",
       "HOTCALL+OPTIMIZED      33598.0\n",
       "dtype: float64"
      ]
     },
     "execution_count": 150,
     "metadata": {},
     "output_type": "execute_result"
    }
   ],
   "source": [
    "evict_rule_batch_df.median()"
   ]
  },
  {
   "cell_type": "code",
   "execution_count": 153,
   "metadata": {},
   "outputs": [
    {
     "data": {
      "text/plain": [
       "Text(0, 0.5, 'Time')"
      ]
     },
     "execution_count": 153,
     "metadata": {},
     "output_type": "execute_result"
    },
    {
     "data": {
      "image/png": "[encoded data removed]",
      "text/plain": [
       "<Figure size 864x432 with 1 Axes>"
      ]
     },
     "metadata": {},
     "output_type": "display_data"
    }
   ],
   "source": [
    "ax = evict_rule_batch_df \\\n",
    "    .median() \\\n",
    "    .sort_values(ascending=False) \\\n",
    "    .plot(kind='bar', \n",
    "          title=\"Median execution time in Micro seconds.\")\n",
    "ax.set_xlabel('Median', fontsize=18)\n",
    "ax.set_ylabel('Time', fontsize=18)"
   ]
  },
  {
   "cell_type": "code",
   "execution_count": 154,
   "metadata": {},
   "outputs": [
    {
     "data": {
      "text/plain": [
       "Text(0, 0.5, 'Time')"
      ]
     },
     "execution_count": 154,
     "metadata": {},
     "output_type": "execute_result"
    },
    {
     "data": {
      "image/png": "[encoded data removed]",
      "text/plain": [
       "<Figure size 864x432 with 1 Axes>"
      ]
     },
     "metadata": {},
     "output_type": "display_data"
    }
   ],
   "source": [
    "cols = ['BASELINE', 'HOTCALL+OPTIMIZED']\n",
    "ax = evict_rule_batch_df[cols] \\\n",
    "    .median() \\\n",
    "    .sort_values(ascending=False) \\\n",
    "    .plot(kind='bar', \n",
    "          title=\"Median execution time in Micro seconds.\", \n",
    "          capsize=10, yerr=evict_rule_batch_df[cols].std().tolist())\n",
    "ax.set_xlabel('Median', fontsize=18)\n",
    "ax.set_ylabel('Time', fontsize=18)"
   ]
  },
  {
   "cell_type": "markdown",
   "metadata": {},
   "source": [
    "## 1.4.2 Single eviction <a class=\"anchor\" id=\"1.4.2\"></a>\n",
    "Occurs when trying to add a rule to a flow table which already has the maximum amount of rules.\n",
    "This benchmark meassures the time of adding a rule to a full flow table (i.e. it meassures the time for a flow addition + a flow eviction)."
   ]
  },
  {
   "cell_type": "code",
   "execution_count": 155,
   "metadata": {},
   "outputs": [],
   "source": [
    "evict_rule_single_df = pd.read_csv(DATA_PATH + \"/evict_rule_single.csv\");"
   ]
  },
  {
   "cell_type": "code",
   "execution_count": 156,
   "metadata": {},
   "outputs": [],
   "source": [
    "evict_rule_single_df = evict_rule_single_df\\\n",
    "    .mask(evict_rule_single_df > evict_rule_single_df.quantile(0.95), axis=0)"
   ]
  },
  {
   "cell_type": "code",
   "execution_count": 157,
   "metadata": {},
   "outputs": [
    {
     "data": {
      "text/html": [
       "<div>\n",
       "<style scoped>\n",
       "    .dataframe tbody tr th:only-of-type {\n",
       "        vertical-align: middle;\n",
       "    }\n",
       "\n",
       "    .dataframe tbody tr th {\n",
       "        vertical-align: top;\n",
       "    }\n",
       "\n",
       "    .dataframe thead th {\n",
       "        text-align: right;\n",
       "    }\n",
       "</style>\n",
       "<table border=\"1\" class=\"dataframe\">\n",
       "  <thead>\n",
       "    <tr style=\"text-align: right;\">\n",
       "      <th></th>\n",
       "      <th>BASELINE</th>\n",
       "      <th>SGX</th>\n",
       "      <th>OPTIMIZED</th>\n",
       "      <th>HOTCALL</th>\n",
       "      <th>HOTCALL+OPTIMIZED</th>\n",
       "    </tr>\n",
       "  </thead>\n",
       "  <tbody>\n",
       "    <tr>\n",
       "      <th>count</th>\n",
       "      <td>4759.000000</td>\n",
       "      <td>4759.000000</td>\n",
       "      <td>4759.000000</td>\n",
       "      <td>4759.000000</td>\n",
       "      <td>4759.000000</td>\n",
       "    </tr>\n",
       "    <tr>\n",
       "      <th>mean</th>\n",
       "      <td>9313.023324</td>\n",
       "      <td>151239.476571</td>\n",
       "      <td>81859.769069</td>\n",
       "      <td>18697.822232</td>\n",
       "      <td>15622.574070</td>\n",
       "    </tr>\n",
       "    <tr>\n",
       "      <th>std</th>\n",
       "      <td>1947.155790</td>\n",
       "      <td>10887.970901</td>\n",
       "      <td>7576.952211</td>\n",
       "      <td>3769.870103</td>\n",
       "      <td>3127.411599</td>\n",
       "    </tr>\n",
       "    <tr>\n",
       "      <th>min</th>\n",
       "      <td>1912.000000</td>\n",
       "      <td>79000.000000</td>\n",
       "      <td>41756.000000</td>\n",
       "      <td>7880.000000</td>\n",
       "      <td>4548.000000</td>\n",
       "    </tr>\n",
       "    <tr>\n",
       "      <th>25%</th>\n",
       "      <td>7745.000000</td>\n",
       "      <td>143178.000000</td>\n",
       "      <td>75837.000000</td>\n",
       "      <td>16202.500000</td>\n",
       "      <td>13274.000000</td>\n",
       "    </tr>\n",
       "    <tr>\n",
       "      <th>50%</th>\n",
       "      <td>8936.000000</td>\n",
       "      <td>148214.000000</td>\n",
       "      <td>79929.000000</td>\n",
       "      <td>18266.000000</td>\n",
       "      <td>15267.000000</td>\n",
       "    </tr>\n",
       "    <tr>\n",
       "      <th>75%</th>\n",
       "      <td>10574.000000</td>\n",
       "      <td>155829.500000</td>\n",
       "      <td>85804.000000</td>\n",
       "      <td>21245.000000</td>\n",
       "      <td>17773.000000</td>\n",
       "    </tr>\n",
       "    <tr>\n",
       "      <th>max</th>\n",
       "      <td>13951.000000</td>\n",
       "      <td>185896.000000</td>\n",
       "      <td>105297.000000</td>\n",
       "      <td>29280.000000</td>\n",
       "      <td>25186.000000</td>\n",
       "    </tr>\n",
       "  </tbody>\n",
       "</table>\n",
       "</div>"
      ],
      "text/plain": [
       "           BASELINE            SGX      OPTIMIZED       HOTCALL  \\\n",
       "count   4759.000000    4759.000000    4759.000000   4759.000000   \n",
       "mean    9313.023324  151239.476571   81859.769069  18697.822232   \n",
       "std     1947.155790   10887.970901    7576.952211   3769.870103   \n",
       "min     1912.000000   79000.000000   41756.000000   7880.000000   \n",
       "25%     7745.000000  143178.000000   75837.000000  16202.500000   \n",
       "50%     8936.000000  148214.000000   79929.000000  18266.000000   \n",
       "75%    10574.000000  155829.500000   85804.000000  21245.000000   \n",
       "max    13951.000000  185896.000000  105297.000000  29280.000000   \n",
       "\n",
       "       HOTCALL+OPTIMIZED  \n",
       "count        4759.000000  \n",
       "mean        15622.574070  \n",
       "std          3127.411599  \n",
       "min          4548.000000  \n",
       "25%         13274.000000  \n",
       "50%         15267.000000  \n",
       "75%         17773.000000  \n",
       "max         25186.000000  "
      ]
     },
     "execution_count": 157,
     "metadata": {},
     "output_type": "execute_result"
    }
   ],
   "source": [
    "evict_rule_single_df.describe()"
   ]
  },
  {
   "cell_type": "code",
   "execution_count": 158,
   "metadata": {},
   "outputs": [
    {
     "data": {
      "text/plain": [
       "BASELINE               8936.0\n",
       "SGX                  148214.0\n",
       "OPTIMIZED             79929.0\n",
       "HOTCALL               18266.0\n",
       "HOTCALL+OPTIMIZED     15267.0\n",
       "dtype: float64"
      ]
     },
     "execution_count": 158,
     "metadata": {},
     "output_type": "execute_result"
    }
   ],
   "source": [
    "evict_rule_single_df.median()"
   ]
  },
  {
   "cell_type": "code",
   "execution_count": 159,
   "metadata": {
    "scrolled": true
   },
   "outputs": [
    {
     "data": {
      "text/plain": [
       "Text(0, 0.5, 'Time')"
      ]
     },
     "execution_count": 159,
     "metadata": {},
     "output_type": "execute_result"
    },
    {
     "data": {
      "image/png": "[encoded data removed]",
      "text/plain": [
       "<Figure size 864x432 with 1 Axes>"
      ]
     },
     "metadata": {},
     "output_type": "display_data"
    }
   ],
   "source": [
    "ax = evict_rule_single_df \\\n",
    "    .median() \\\n",
    "    .sort_values(ascending=False) \\\n",
    "    .plot(kind='bar', \n",
    "          title=\"Median eviction of single rule execution time in Micro seconds.\", \n",
    "          capsize=10, yerr=evict_rule_single_df.std().tolist())\n",
    "ax.set_xlabel('Median', fontsize=18)\n",
    "ax.set_ylabel('Time', fontsize=18)"
   ]
  },
  {
   "cell_type": "code",
   "execution_count": 160,
   "metadata": {},
   "outputs": [
    {
     "data": {
      "text/plain": [
       "Text(0, 0.5, 'Time')"
      ]
     },
     "execution_count": 160,
     "metadata": {},
     "output_type": "execute_result"
    },
    {
     "data": {
      "image/png": "[encoded data removed]",
      "text/plain": [
       "<Figure size 864x432 with 1 Axes>"
      ]
     },
     "metadata": {},
     "output_type": "display_data"
    }
   ],
   "source": [
    "cols = ['HOTCALL', 'BASELINE', 'HOTCALL+OPTIMIZED']\n",
    "ax = evict_rule_single_df[cols] \\\n",
    "    .median() \\\n",
    "    .sort_values(ascending=False) \\\n",
    "    .plot(kind='bar', \n",
    "          title=\"Median eviction of single rule execution time in Micro seconds.\", \n",
    "          capsize=10, yerr=evict_rule_single_df[cols].std().tolist())\n",
    "ax.set_xlabel('Median', fontsize=18)\n",
    "ax.set_ylabel('Time', fontsize=18)"
   ]
  },
  {
   "cell_type": "markdown",
   "metadata": {},
   "source": [
    "# 2 Stats requests <a class=\"anchor\" id=\"2\"></a>"
   ]
  },
  {
   "cell_type": "markdown",
   "metadata": {},
   "source": [
    "## 2.1 Dump flows <a class=\"anchor\" id=\"2.1\"></a>"
   ]
  },
  {
   "cell_type": "code",
   "execution_count": 161,
   "metadata": {},
   "outputs": [],
   "source": [
    "dump_flows_df = pd.read_csv(DATA_PATH + \"/dump_flows.csv\");"
   ]
  },
  {
   "cell_type": "code",
   "execution_count": 162,
   "metadata": {},
   "outputs": [],
   "source": [
    "dump_flows_df = dump_flows_df\\\n",
    "    .mask(dump_flows_df > dump_flows_df.quantile(0.95), axis=0)"
   ]
  },
  {
   "cell_type": "code",
   "execution_count": 163,
   "metadata": {},
   "outputs": [
    {
     "data": {
      "text/html": [
       "<div>\n",
       "<style scoped>\n",
       "    .dataframe tbody tr th:only-of-type {\n",
       "        vertical-align: middle;\n",
       "    }\n",
       "\n",
       "    .dataframe tbody tr th {\n",
       "        vertical-align: top;\n",
       "    }\n",
       "\n",
       "    .dataframe thead th {\n",
       "        text-align: right;\n",
       "    }\n",
       "</style>\n",
       "<table border=\"1\" class=\"dataframe\">\n",
       "  <thead>\n",
       "    <tr style=\"text-align: right;\">\n",
       "      <th></th>\n",
       "      <th>BASELINE</th>\n",
       "      <th>SGX</th>\n",
       "      <th>OPTIMIZED</th>\n",
       "      <th>HOTCALL</th>\n",
       "      <th>HOTCALL+OPTIMIZED</th>\n",
       "    </tr>\n",
       "  </thead>\n",
       "  <tbody>\n",
       "    <tr>\n",
       "      <th>count</th>\n",
       "      <td>4751.000000</td>\n",
       "      <td>4.751000e+03</td>\n",
       "      <td>4751.000000</td>\n",
       "      <td>4751.000000</td>\n",
       "      <td>4751.00000</td>\n",
       "    </tr>\n",
       "    <tr>\n",
       "      <th>mean</th>\n",
       "      <td>85421.756893</td>\n",
       "      <td>2.370134e+06</td>\n",
       "      <td>129802.902336</td>\n",
       "      <td>246595.734372</td>\n",
       "      <td>115350.71185</td>\n",
       "    </tr>\n",
       "    <tr>\n",
       "      <th>std</th>\n",
       "      <td>16337.474322</td>\n",
       "      <td>1.853921e+05</td>\n",
       "      <td>18122.941070</td>\n",
       "      <td>45329.851780</td>\n",
       "      <td>28536.65638</td>\n",
       "    </tr>\n",
       "    <tr>\n",
       "      <th>min</th>\n",
       "      <td>64990.000000</td>\n",
       "      <td>2.121279e+06</td>\n",
       "      <td>100153.000000</td>\n",
       "      <td>194954.000000</td>\n",
       "      <td>79915.00000</td>\n",
       "    </tr>\n",
       "    <tr>\n",
       "      <th>25%</th>\n",
       "      <td>72657.500000</td>\n",
       "      <td>2.222913e+06</td>\n",
       "      <td>116333.000000</td>\n",
       "      <td>211584.000000</td>\n",
       "      <td>91601.00000</td>\n",
       "    </tr>\n",
       "    <tr>\n",
       "      <th>50%</th>\n",
       "      <td>77518.000000</td>\n",
       "      <td>2.317164e+06</td>\n",
       "      <td>123420.000000</td>\n",
       "      <td>236765.000000</td>\n",
       "      <td>108284.00000</td>\n",
       "    </tr>\n",
       "    <tr>\n",
       "      <th>75%</th>\n",
       "      <td>97732.500000</td>\n",
       "      <td>2.477724e+06</td>\n",
       "      <td>140177.500000</td>\n",
       "      <td>263505.000000</td>\n",
       "      <td>129338.00000</td>\n",
       "    </tr>\n",
       "    <tr>\n",
       "      <th>max</th>\n",
       "      <td>127343.000000</td>\n",
       "      <td>2.914478e+06</td>\n",
       "      <td>182171.000000</td>\n",
       "      <td>443798.000000</td>\n",
       "      <td>192245.00000</td>\n",
       "    </tr>\n",
       "  </tbody>\n",
       "</table>\n",
       "</div>"
      ],
      "text/plain": [
       "            BASELINE           SGX      OPTIMIZED        HOTCALL  \\\n",
       "count    4751.000000  4.751000e+03    4751.000000    4751.000000   \n",
       "mean    85421.756893  2.370134e+06  129802.902336  246595.734372   \n",
       "std     16337.474322  1.853921e+05   18122.941070   45329.851780   \n",
       "min     64990.000000  2.121279e+06  100153.000000  194954.000000   \n",
       "25%     72657.500000  2.222913e+06  116333.000000  211584.000000   \n",
       "50%     77518.000000  2.317164e+06  123420.000000  236765.000000   \n",
       "75%     97732.500000  2.477724e+06  140177.500000  263505.000000   \n",
       "max    127343.000000  2.914478e+06  182171.000000  443798.000000   \n",
       "\n",
       "       HOTCALL+OPTIMIZED  \n",
       "count         4751.00000  \n",
       "mean        115350.71185  \n",
       "std          28536.65638  \n",
       "min          79915.00000  \n",
       "25%          91601.00000  \n",
       "50%         108284.00000  \n",
       "75%         129338.00000  \n",
       "max         192245.00000  "
      ]
     },
     "execution_count": 163,
     "metadata": {},
     "output_type": "execute_result"
    }
   ],
   "source": [
    "dump_flows_df.describe()"
   ]
  },
  {
   "cell_type": "code",
   "execution_count": 164,
   "metadata": {},
   "outputs": [
    {
     "data": {
      "text/plain": [
       "BASELINE               77518.0\n",
       "SGX                  2317164.0\n",
       "OPTIMIZED             123420.0\n",
       "HOTCALL               236765.0\n",
       "HOTCALL+OPTIMIZED     108284.0\n",
       "dtype: float64"
      ]
     },
     "execution_count": 164,
     "metadata": {},
     "output_type": "execute_result"
    }
   ],
   "source": [
    "dump_flows_df.median()"
   ]
  },
  {
   "cell_type": "code",
   "execution_count": 165,
   "metadata": {},
   "outputs": [
    {
     "data": {
      "text/plain": [
       "Text(0, 0.5, 'Time')"
      ]
     },
     "execution_count": 165,
     "metadata": {},
     "output_type": "execute_result"
    },
    {
     "data": {
      "image/png": "[encoded data removed]",
      "text/plain": [
       "<Figure size 864x432 with 1 Axes>"
      ]
     },
     "metadata": {},
     "output_type": "display_data"
    }
   ],
   "source": [
    "ax = dump_flows_df \\\n",
    "    .median() \\\n",
    "    .sort_values(ascending=False) \\\n",
    "    .plot(kind='bar', \n",
    "          title=\"Median mod dump flow execution time in Micro seconds.\", \n",
    "          capsize=10, yerr=dump_flows_df.std().tolist())\n",
    "ax.set_xlabel('Median', fontsize=18)\n",
    "ax.set_ylabel('Time', fontsize=18)"
   ]
  },
  {
   "cell_type": "code",
   "execution_count": 166,
   "metadata": {},
   "outputs": [
    {
     "data": {
      "text/plain": [
       "Text(0, 0.5, 'Time')"
      ]
     },
     "execution_count": 166,
     "metadata": {},
     "output_type": "execute_result"
    },
    {
     "data": {
      "image/png": "[encoded data removed]",
      "text/plain": [
       "<Figure size 864x432 with 1 Axes>"
      ]
     },
     "metadata": {},
     "output_type": "display_data"
    }
   ],
   "source": [
    "cols = ['BASELINE', 'HOTCALL', 'HOTCALL+OPTIMIZED', 'OPTIMIZED']\n",
    "ax = dump_flows_df[cols] \\\n",
    "    .median() \\\n",
    "    .sort_values(ascending=False) \\\n",
    "    .plot(kind='bar', \n",
    "          title=\"Median dump flows execution time in Micro seconds.\", \n",
    "          capsize=10, yerr=dump_flows_df[cols].std().tolist())\n",
    "ax.set_xlabel('Median', fontsize=18)\n",
    "ax.set_ylabel('Time', fontsize=18)"
   ]
  },
  {
   "cell_type": "markdown",
   "metadata": {},
   "source": [
    "Dump flows collect all flows in a flow table from the enclave. The number of ecalls neccesary to carry out this operation grew linerally with the number of flows in the flow table in the baseline application. This was an extremly inefficient solution. The optimized solution uses in the best case scenario a single ecall to fetch all the flow and this is the reason for the extreme speed up."
   ]
  },
  {
   "cell_type": "markdown",
   "metadata": {},
   "source": [
    "# 3 Upcall  <a class=\"anchor\" id=\"3\"></a>"
   ]
  },
  {
   "cell_type": "markdown",
   "metadata": {},
   "source": [
    "## 3.1 force-controller\n",
    "Every packet is forced to take the slow path and is redirected to controller."
   ]
  },
  {
   "cell_type": "code",
   "execution_count": 8,
   "metadata": {},
   "outputs": [],
   "source": [
    "udp_latency_force_controller_df = pd.read_csv(DATA_PATH + \"/udp_latency_force_controller.csv\");"
   ]
  },
  {
   "cell_type": "code",
   "execution_count": 9,
   "metadata": {},
   "outputs": [],
   "source": [
    "udp_latency_force_controller_df = udp_latency_force_controller_df\\\n",
    "    .mask(udp_latency_force_controller_df > udp_latency_force_controller_df.quantile(0.95), axis=0)"
   ]
  },
  {
   "cell_type": "code",
   "execution_count": 10,
   "metadata": {},
   "outputs": [
    {
     "data": {
      "text/plain": [
       "BASELINE    0.001849\n",
       "SGX         0.002283\n",
       "HOTCALL     0.002129\n",
       "dtype: float64"
      ]
     },
     "execution_count": 10,
     "metadata": {},
     "output_type": "execute_result"
    }
   ],
   "source": [
    "udp_latency_force_controller_df.median()"
   ]
  },
  {
   "cell_type": "code",
   "execution_count": 11,
   "metadata": {},
   "outputs": [
    {
     "data": {
      "text/plain": [
       "Text(0, 0.5, 'Time')"
      ]
     },
     "execution_count": 11,
     "metadata": {},
     "output_type": "execute_result"
    },
    {
     "data": {
      "image/png": "[encoded data removed]",
      "text/plain": [
       "<Figure size 432x288 with 1 Axes>"
      ]
     },
     "metadata": {
      "needs_background": "light"
     },
     "output_type": "display_data"
    }
   ],
   "source": [
    "ax = udp_latency_force_controller_df \\\n",
    "    .median() \\\n",
    "    .sort_values(ascending=False) \\\n",
    "    .plot(kind='bar', \n",
    "          title=\"Median mod dump flow execution time in Micro seconds.\", \n",
    "          capsize=10, yerr=udp_latency_force_controller_df.std().tolist())\n",
    "ax.set_xlabel('Median', fontsize=18)\n",
    "ax.set_ylabel('Time', fontsize=18)"
   ]
  },
  {
   "cell_type": "code",
   "execution_count": null,
   "metadata": {},
   "outputs": [],
   "source": []
  }
 ],
 "metadata": {
  "kernelspec": {
   "display_name": "Python 3",
   "language": "python",
   "name": "python3"
  },
  "language_info": {
   "codemirror_mode": {
    "name": "ipython",
    "version": 3
   },
   "file_extension": ".py",
   "mimetype": "text/x-python",
   "name": "python",
   "nbconvert_exporter": "python",
   "pygments_lexer": "ipython3",
   "version": "3.5.2"
  }
 },
 "nbformat": 4,
 "nbformat_minor": 2
}
